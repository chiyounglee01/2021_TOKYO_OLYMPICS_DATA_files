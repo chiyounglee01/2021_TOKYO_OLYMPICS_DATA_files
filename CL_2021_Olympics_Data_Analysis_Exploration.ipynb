{
 "cells": [
  {
   "cell_type": "markdown",
   "id": "bbaeb888",
   "metadata": {},
   "source": [
    "# 2021 TOKYO OLYMPICS DATA ANALYSIS AND VISUALIZATION USING MATPLOTLIB AND SEABORN LIBRARIES IN PYTHON\n",
    "\n",
    "**The following is a visual exploration of the 2021 Tokyo Olympics Dataset found in Kaggle.**\n",
    "\n",
    "https://www.kaggle.com/arjunprasadsarkhel/2021-olympics-in-tokyo\n",
    "\n",
    "I use the Medals.xlsx and 'Athletes.xlsx' files in the dataset to explore the correlation of the number of athletes a country sends and the number of medals a country wins.\n",
    "\n",
    "For the top 30 total medal winning countries, I also explore the correlation between Per Capita GDP and total medals won. I use the World Bank's GDP PER CAPITA Data for 2020.\n",
    "I also supplement some missing data from the CIA World Factbook page.\n",
    "\n",
    "https://data.worldbank.org/indicator/NY.GDP.PCAP.CD\n",
    "\n",
    "https://www.cia.gov/the-world-factbook/field/real-gdp-per-capita/country-comparison\n",
    "\n",
    "**This exploration attempts to answer the following questions.**\n",
    "\n",
    "* **Which countries won the most medals?**\n",
    "* **Which countries had the most Athlete Count?**\n",
    "* **Is there a correlation between Athlete Count and the number of Medals a country wins?**\n",
    "* **Amongst the top 30 medal winning countries, is there a correlation between Per Capita GDP and the number of Medals a country wins?**\n"
   ]
  },
  {
   "cell_type": "markdown",
   "id": "b1fe2f57",
   "metadata": {},
   "source": [
    "## PREPARING AND CLEANING THE OLYMPIC DATA"
   ]
  },
  {
   "cell_type": "markdown",
   "id": "b6bf8aab",
   "metadata": {},
   "source": [
    "**Import numpy, pandas, visualization libraries, scipy.stats and set %matplotlib inline.**"
   ]
  },
  {
   "cell_type": "code",
   "execution_count": 154,
   "id": "b07d052e",
   "metadata": {},
   "outputs": [],
   "source": [
    "import pandas as pd\n",
    "import numpy as np\n",
    "import seaborn as sns\n",
    "import matplotlib.pyplot as plt\n",
    "import scipy.stats as stats\n",
    "%matplotlib inline"
   ]
  },
  {
   "cell_type": "markdown",
   "id": "f6b45e21",
   "metadata": {},
   "source": [
    "**Read in the 'Medals.xlsx' excel file as a dataframe called 'tokyo_olympic_medals'**"
   ]
  },
  {
   "cell_type": "code",
   "execution_count": 155,
   "id": "13703025",
   "metadata": {},
   "outputs": [
    {
     "name": "stdout",
     "output_type": "stream",
     "text": [
      "Requirement already satisfied: openpyxl in /opt/anaconda3/lib/python3.8/site-packages (3.0.7)\r\n",
      "Requirement already satisfied: et-xmlfile in /opt/anaconda3/lib/python3.8/site-packages (from openpyxl) (1.0.1)\r\n"
     ]
    },
    {
     "name": "stderr",
     "output_type": "stream",
     "text": [
      "/opt/anaconda3/lib/python3.8/site-packages/openpyxl/styles/stylesheet.py:221: UserWarning: Workbook contains no default style, apply openpyxl's default\n",
      "  warn(\"Workbook contains no default style, apply openpyxl's default\")\n"
     ]
    }
   ],
   "source": [
    "!pip install openpyxl\n",
    "tokyo_olympic_medals = pd.read_excel('Medals.xlsx')"
   ]
  },
  {
   "cell_type": "markdown",
   "id": "21ca4b22",
   "metadata": {},
   "source": [
    "**Check the info of the 'tokyo_olympic_medals' dataframe.**"
   ]
  },
  {
   "cell_type": "code",
   "execution_count": 156,
   "id": "893a7711",
   "metadata": {},
   "outputs": [
    {
     "name": "stdout",
     "output_type": "stream",
     "text": [
      "<class 'pandas.core.frame.DataFrame'>\n",
      "RangeIndex: 93 entries, 0 to 92\n",
      "Data columns (total 7 columns):\n",
      " #   Column         Non-Null Count  Dtype \n",
      "---  ------         --------------  ----- \n",
      " 0   Rank           93 non-null     int64 \n",
      " 1   Team/NOC       93 non-null     object\n",
      " 2   Gold           93 non-null     int64 \n",
      " 3   Silver         93 non-null     int64 \n",
      " 4   Bronze         93 non-null     int64 \n",
      " 5   Total          93 non-null     int64 \n",
      " 6   Rank by Total  93 non-null     int64 \n",
      "dtypes: int64(6), object(1)\n",
      "memory usage: 5.2+ KB\n"
     ]
    }
   ],
   "source": [
    "tokyo_olympic_medals.info()"
   ]
  },
  {
   "cell_type": "markdown",
   "id": "8206e57a",
   "metadata": {},
   "source": [
    "**Check if any columns have any null values.**"
   ]
  },
  {
   "cell_type": "code",
   "execution_count": 157,
   "id": "8a98d8a3",
   "metadata": {},
   "outputs": [
    {
     "data": {
      "text/plain": [
       "Rank             False\n",
       "Team/NOC         False\n",
       "Gold             False\n",
       "Silver           False\n",
       "Bronze           False\n",
       "Total            False\n",
       "Rank by Total    False\n",
       "dtype: bool"
      ]
     },
     "execution_count": 157,
     "metadata": {},
     "output_type": "execute_result"
    }
   ],
   "source": [
    "tokyo_olympic_medals.isnull().any()"
   ]
  },
  {
   "cell_type": "markdown",
   "id": "ab826ef5",
   "metadata": {},
   "source": [
    "**Check the first 10 rows of the dataframe.**"
   ]
  },
  {
   "cell_type": "code",
   "execution_count": 158,
   "id": "636b48eb",
   "metadata": {},
   "outputs": [
    {
     "data": {
      "text/html": [
       "<div>\n",
       "<style scoped>\n",
       "    .dataframe tbody tr th:only-of-type {\n",
       "        vertical-align: middle;\n",
       "    }\n",
       "\n",
       "    .dataframe tbody tr th {\n",
       "        vertical-align: top;\n",
       "    }\n",
       "\n",
       "    .dataframe thead th {\n",
       "        text-align: right;\n",
       "    }\n",
       "</style>\n",
       "<table border=\"1\" class=\"dataframe\">\n",
       "  <thead>\n",
       "    <tr style=\"text-align: right;\">\n",
       "      <th></th>\n",
       "      <th>Rank</th>\n",
       "      <th>Team/NOC</th>\n",
       "      <th>Gold</th>\n",
       "      <th>Silver</th>\n",
       "      <th>Bronze</th>\n",
       "      <th>Total</th>\n",
       "      <th>Rank by Total</th>\n",
       "    </tr>\n",
       "  </thead>\n",
       "  <tbody>\n",
       "    <tr>\n",
       "      <th>0</th>\n",
       "      <td>1</td>\n",
       "      <td>United States of America</td>\n",
       "      <td>39</td>\n",
       "      <td>41</td>\n",
       "      <td>33</td>\n",
       "      <td>113</td>\n",
       "      <td>1</td>\n",
       "    </tr>\n",
       "    <tr>\n",
       "      <th>1</th>\n",
       "      <td>2</td>\n",
       "      <td>People's Republic of China</td>\n",
       "      <td>38</td>\n",
       "      <td>32</td>\n",
       "      <td>18</td>\n",
       "      <td>88</td>\n",
       "      <td>2</td>\n",
       "    </tr>\n",
       "    <tr>\n",
       "      <th>2</th>\n",
       "      <td>3</td>\n",
       "      <td>Japan</td>\n",
       "      <td>27</td>\n",
       "      <td>14</td>\n",
       "      <td>17</td>\n",
       "      <td>58</td>\n",
       "      <td>5</td>\n",
       "    </tr>\n",
       "    <tr>\n",
       "      <th>3</th>\n",
       "      <td>4</td>\n",
       "      <td>Great Britain</td>\n",
       "      <td>22</td>\n",
       "      <td>21</td>\n",
       "      <td>22</td>\n",
       "      <td>65</td>\n",
       "      <td>4</td>\n",
       "    </tr>\n",
       "    <tr>\n",
       "      <th>4</th>\n",
       "      <td>5</td>\n",
       "      <td>ROC</td>\n",
       "      <td>20</td>\n",
       "      <td>28</td>\n",
       "      <td>23</td>\n",
       "      <td>71</td>\n",
       "      <td>3</td>\n",
       "    </tr>\n",
       "    <tr>\n",
       "      <th>5</th>\n",
       "      <td>6</td>\n",
       "      <td>Australia</td>\n",
       "      <td>17</td>\n",
       "      <td>7</td>\n",
       "      <td>22</td>\n",
       "      <td>46</td>\n",
       "      <td>6</td>\n",
       "    </tr>\n",
       "    <tr>\n",
       "      <th>6</th>\n",
       "      <td>7</td>\n",
       "      <td>Netherlands</td>\n",
       "      <td>10</td>\n",
       "      <td>12</td>\n",
       "      <td>14</td>\n",
       "      <td>36</td>\n",
       "      <td>9</td>\n",
       "    </tr>\n",
       "    <tr>\n",
       "      <th>7</th>\n",
       "      <td>8</td>\n",
       "      <td>France</td>\n",
       "      <td>10</td>\n",
       "      <td>12</td>\n",
       "      <td>11</td>\n",
       "      <td>33</td>\n",
       "      <td>10</td>\n",
       "    </tr>\n",
       "    <tr>\n",
       "      <th>8</th>\n",
       "      <td>9</td>\n",
       "      <td>Germany</td>\n",
       "      <td>10</td>\n",
       "      <td>11</td>\n",
       "      <td>16</td>\n",
       "      <td>37</td>\n",
       "      <td>8</td>\n",
       "    </tr>\n",
       "    <tr>\n",
       "      <th>9</th>\n",
       "      <td>10</td>\n",
       "      <td>Italy</td>\n",
       "      <td>10</td>\n",
       "      <td>10</td>\n",
       "      <td>20</td>\n",
       "      <td>40</td>\n",
       "      <td>7</td>\n",
       "    </tr>\n",
       "  </tbody>\n",
       "</table>\n",
       "</div>"
      ],
      "text/plain": [
       "   Rank                    Team/NOC  Gold  Silver  Bronze  Total  \\\n",
       "0     1    United States of America    39      41      33    113   \n",
       "1     2  People's Republic of China    38      32      18     88   \n",
       "2     3                       Japan    27      14      17     58   \n",
       "3     4               Great Britain    22      21      22     65   \n",
       "4     5                         ROC    20      28      23     71   \n",
       "5     6                   Australia    17       7      22     46   \n",
       "6     7                 Netherlands    10      12      14     36   \n",
       "7     8                      France    10      12      11     33   \n",
       "8     9                     Germany    10      11      16     37   \n",
       "9    10                       Italy    10      10      20     40   \n",
       "\n",
       "   Rank by Total  \n",
       "0              1  \n",
       "1              2  \n",
       "2              5  \n",
       "3              4  \n",
       "4              3  \n",
       "5              6  \n",
       "6              9  \n",
       "7             10  \n",
       "8              8  \n",
       "9              7  "
      ]
     },
     "execution_count": 158,
     "metadata": {},
     "output_type": "execute_result"
    }
   ],
   "source": [
    "tokyo_olympic_medals.head(10)"
   ]
  },
  {
   "cell_type": "markdown",
   "id": "8f4b268d",
   "metadata": {},
   "source": [
    "**It looks as if the first column is an index we can delete. \n",
    "Set 'Team/NOC' as the index as it is more helpful to\n",
    "have the participating countries as the index.**"
   ]
  },
  {
   "cell_type": "code",
   "execution_count": 159,
   "id": "cbc87e23",
   "metadata": {},
   "outputs": [
    {
     "data": {
      "text/html": [
       "<div>\n",
       "<style scoped>\n",
       "    .dataframe tbody tr th:only-of-type {\n",
       "        vertical-align: middle;\n",
       "    }\n",
       "\n",
       "    .dataframe tbody tr th {\n",
       "        vertical-align: top;\n",
       "    }\n",
       "\n",
       "    .dataframe thead th {\n",
       "        text-align: right;\n",
       "    }\n",
       "</style>\n",
       "<table border=\"1\" class=\"dataframe\">\n",
       "  <thead>\n",
       "    <tr style=\"text-align: right;\">\n",
       "      <th></th>\n",
       "      <th>Rank</th>\n",
       "      <th>Gold</th>\n",
       "      <th>Silver</th>\n",
       "      <th>Bronze</th>\n",
       "      <th>Total</th>\n",
       "      <th>Rank by Total</th>\n",
       "    </tr>\n",
       "    <tr>\n",
       "      <th>Team/NOC</th>\n",
       "      <th></th>\n",
       "      <th></th>\n",
       "      <th></th>\n",
       "      <th></th>\n",
       "      <th></th>\n",
       "      <th></th>\n",
       "    </tr>\n",
       "  </thead>\n",
       "  <tbody>\n",
       "    <tr>\n",
       "      <th>United States of America</th>\n",
       "      <td>1</td>\n",
       "      <td>39</td>\n",
       "      <td>41</td>\n",
       "      <td>33</td>\n",
       "      <td>113</td>\n",
       "      <td>1</td>\n",
       "    </tr>\n",
       "    <tr>\n",
       "      <th>People's Republic of China</th>\n",
       "      <td>2</td>\n",
       "      <td>38</td>\n",
       "      <td>32</td>\n",
       "      <td>18</td>\n",
       "      <td>88</td>\n",
       "      <td>2</td>\n",
       "    </tr>\n",
       "    <tr>\n",
       "      <th>Japan</th>\n",
       "      <td>3</td>\n",
       "      <td>27</td>\n",
       "      <td>14</td>\n",
       "      <td>17</td>\n",
       "      <td>58</td>\n",
       "      <td>5</td>\n",
       "    </tr>\n",
       "    <tr>\n",
       "      <th>Great Britain</th>\n",
       "      <td>4</td>\n",
       "      <td>22</td>\n",
       "      <td>21</td>\n",
       "      <td>22</td>\n",
       "      <td>65</td>\n",
       "      <td>4</td>\n",
       "    </tr>\n",
       "    <tr>\n",
       "      <th>ROC</th>\n",
       "      <td>5</td>\n",
       "      <td>20</td>\n",
       "      <td>28</td>\n",
       "      <td>23</td>\n",
       "      <td>71</td>\n",
       "      <td>3</td>\n",
       "    </tr>\n",
       "  </tbody>\n",
       "</table>\n",
       "</div>"
      ],
      "text/plain": [
       "                            Rank  Gold  Silver  Bronze  Total  Rank by Total\n",
       "Team/NOC                                                                    \n",
       "United States of America       1    39      41      33    113              1\n",
       "People's Republic of China     2    38      32      18     88              2\n",
       "Japan                          3    27      14      17     58              5\n",
       "Great Britain                  4    22      21      22     65              4\n",
       "ROC                            5    20      28      23     71              3"
      ]
     },
     "execution_count": 159,
     "metadata": {},
     "output_type": "execute_result"
    }
   ],
   "source": [
    "tokyo_olympic_medals.set_index('Team/NOC').head()"
   ]
  },
  {
   "cell_type": "markdown",
   "id": "89a7cb28",
   "metadata": {},
   "source": [
    "**Read in the 'Athletes.xlsx' excel file as a dataframe called 'tokyo_olympic_athletes'**"
   ]
  },
  {
   "cell_type": "code",
   "execution_count": 160,
   "id": "804f39ee",
   "metadata": {},
   "outputs": [],
   "source": [
    "tokyo_olympic_athletes = pd.read_excel('Athletes.xlsx')"
   ]
  },
  {
   "cell_type": "markdown",
   "id": "5b0fa8f8",
   "metadata": {},
   "source": [
    "**Check the info of the tokyo_olympic_athletes dataframe.**"
   ]
  },
  {
   "cell_type": "code",
   "execution_count": 161,
   "id": "3a8f06c9",
   "metadata": {},
   "outputs": [
    {
     "name": "stdout",
     "output_type": "stream",
     "text": [
      "<class 'pandas.core.frame.DataFrame'>\n",
      "RangeIndex: 11085 entries, 0 to 11084\n",
      "Data columns (total 3 columns):\n",
      " #   Column      Non-Null Count  Dtype \n",
      "---  ------      --------------  ----- \n",
      " 0   Name        11085 non-null  object\n",
      " 1   NOC         11085 non-null  object\n",
      " 2   Discipline  11085 non-null  object\n",
      "dtypes: object(3)\n",
      "memory usage: 259.9+ KB\n"
     ]
    }
   ],
   "source": [
    "tokyo_olympic_athletes.info()"
   ]
  },
  {
   "cell_type": "markdown",
   "id": "b8b21e31",
   "metadata": {},
   "source": [
    "**Check if any columns have any null values.**"
   ]
  },
  {
   "cell_type": "code",
   "execution_count": 162,
   "id": "3304b25a",
   "metadata": {},
   "outputs": [
    {
     "data": {
      "text/plain": [
       "Name          False\n",
       "NOC           False\n",
       "Discipline    False\n",
       "dtype: bool"
      ]
     },
     "execution_count": 162,
     "metadata": {},
     "output_type": "execute_result"
    }
   ],
   "source": [
    "tokyo_olympic_athletes.isnull().any()"
   ]
  },
  {
   "cell_type": "markdown",
   "id": "c32926f7",
   "metadata": {},
   "source": [
    "**Check the first five rows of the 'tokyo_olympic_athletes' dataframe.**"
   ]
  },
  {
   "cell_type": "code",
   "execution_count": 163,
   "id": "72f612b0",
   "metadata": {},
   "outputs": [
    {
     "data": {
      "text/html": [
       "<div>\n",
       "<style scoped>\n",
       "    .dataframe tbody tr th:only-of-type {\n",
       "        vertical-align: middle;\n",
       "    }\n",
       "\n",
       "    .dataframe tbody tr th {\n",
       "        vertical-align: top;\n",
       "    }\n",
       "\n",
       "    .dataframe thead th {\n",
       "        text-align: right;\n",
       "    }\n",
       "</style>\n",
       "<table border=\"1\" class=\"dataframe\">\n",
       "  <thead>\n",
       "    <tr style=\"text-align: right;\">\n",
       "      <th></th>\n",
       "      <th>Name</th>\n",
       "      <th>NOC</th>\n",
       "      <th>Discipline</th>\n",
       "    </tr>\n",
       "  </thead>\n",
       "  <tbody>\n",
       "    <tr>\n",
       "      <th>0</th>\n",
       "      <td>AALERUD Katrine</td>\n",
       "      <td>Norway</td>\n",
       "      <td>Cycling Road</td>\n",
       "    </tr>\n",
       "    <tr>\n",
       "      <th>1</th>\n",
       "      <td>ABAD Nestor</td>\n",
       "      <td>Spain</td>\n",
       "      <td>Artistic Gymnastics</td>\n",
       "    </tr>\n",
       "    <tr>\n",
       "      <th>2</th>\n",
       "      <td>ABAGNALE Giovanni</td>\n",
       "      <td>Italy</td>\n",
       "      <td>Rowing</td>\n",
       "    </tr>\n",
       "    <tr>\n",
       "      <th>3</th>\n",
       "      <td>ABALDE Alberto</td>\n",
       "      <td>Spain</td>\n",
       "      <td>Basketball</td>\n",
       "    </tr>\n",
       "    <tr>\n",
       "      <th>4</th>\n",
       "      <td>ABALDE Tamara</td>\n",
       "      <td>Spain</td>\n",
       "      <td>Basketball</td>\n",
       "    </tr>\n",
       "  </tbody>\n",
       "</table>\n",
       "</div>"
      ],
      "text/plain": [
       "                Name     NOC           Discipline\n",
       "0    AALERUD Katrine  Norway         Cycling Road\n",
       "1        ABAD Nestor   Spain  Artistic Gymnastics\n",
       "2  ABAGNALE Giovanni   Italy               Rowing\n",
       "3     ABALDE Alberto   Spain           Basketball\n",
       "4      ABALDE Tamara   Spain           Basketball"
      ]
     },
     "execution_count": 163,
     "metadata": {},
     "output_type": "execute_result"
    }
   ],
   "source": [
    "tokyo_olympic_athletes.head()"
   ]
  },
  {
   "cell_type": "markdown",
   "id": "4f0574a4",
   "metadata": {},
   "source": [
    "**Since we are trying to get the number of unique athlete names from participating countries,\n",
    "dropped any rows with duplicate athlete names using drop_duplicates().**"
   ]
  },
  {
   "cell_type": "code",
   "execution_count": 164,
   "id": "1cfec708",
   "metadata": {},
   "outputs": [],
   "source": [
    "tokyo_olympic_athletes.drop_duplicates(subset=['Name'],inplace=True)"
   ]
  },
  {
   "cell_type": "markdown",
   "id": "7f5bbadb",
   "metadata": {},
   "source": [
    "**Count the unique number of athletes for every participating country.\n",
    "Make new dataframe called 'tokyo_olympic_athletes_count'.**"
   ]
  },
  {
   "cell_type": "code",
   "execution_count": 165,
   "id": "956b0d27",
   "metadata": {},
   "outputs": [],
   "source": [
    "tokyo_olympic_athletes_count = tokyo_olympic_athletes.groupby(['NOC']).count()"
   ]
  },
  {
   "cell_type": "markdown",
   "id": "452afb43",
   "metadata": {},
   "source": [
    "**Check the first five rows of 'tokyo_olympic_athletes_count' dataframe.**"
   ]
  },
  {
   "cell_type": "code",
   "execution_count": 166,
   "id": "e0e6d41c",
   "metadata": {},
   "outputs": [
    {
     "data": {
      "text/html": [
       "<div>\n",
       "<style scoped>\n",
       "    .dataframe tbody tr th:only-of-type {\n",
       "        vertical-align: middle;\n",
       "    }\n",
       "\n",
       "    .dataframe tbody tr th {\n",
       "        vertical-align: top;\n",
       "    }\n",
       "\n",
       "    .dataframe thead th {\n",
       "        text-align: right;\n",
       "    }\n",
       "</style>\n",
       "<table border=\"1\" class=\"dataframe\">\n",
       "  <thead>\n",
       "    <tr style=\"text-align: right;\">\n",
       "      <th></th>\n",
       "      <th>Name</th>\n",
       "      <th>Discipline</th>\n",
       "    </tr>\n",
       "    <tr>\n",
       "      <th>NOC</th>\n",
       "      <th></th>\n",
       "      <th></th>\n",
       "    </tr>\n",
       "  </thead>\n",
       "  <tbody>\n",
       "    <tr>\n",
       "      <th>Afghanistan</th>\n",
       "      <td>5</td>\n",
       "      <td>5</td>\n",
       "    </tr>\n",
       "    <tr>\n",
       "      <th>Albania</th>\n",
       "      <td>8</td>\n",
       "      <td>8</td>\n",
       "    </tr>\n",
       "    <tr>\n",
       "      <th>Algeria</th>\n",
       "      <td>41</td>\n",
       "      <td>41</td>\n",
       "    </tr>\n",
       "    <tr>\n",
       "      <th>American Samoa</th>\n",
       "      <td>5</td>\n",
       "      <td>5</td>\n",
       "    </tr>\n",
       "    <tr>\n",
       "      <th>Andorra</th>\n",
       "      <td>2</td>\n",
       "      <td>2</td>\n",
       "    </tr>\n",
       "  </tbody>\n",
       "</table>\n",
       "</div>"
      ],
      "text/plain": [
       "                Name  Discipline\n",
       "NOC                             \n",
       "Afghanistan        5           5\n",
       "Albania            8           8\n",
       "Algeria           41          41\n",
       "American Samoa     5           5\n",
       "Andorra            2           2"
      ]
     },
     "execution_count": 166,
     "metadata": {},
     "output_type": "execute_result"
    }
   ],
   "source": [
    "tokyo_olympic_athletes_count.head()"
   ]
  },
  {
   "cell_type": "markdown",
   "id": "1e6a1958",
   "metadata": {},
   "source": [
    "**Rename 'Name' column of 'tokyo_olympic_athletes_count' to 'Athlete Count'.**"
   ]
  },
  {
   "cell_type": "code",
   "execution_count": 167,
   "id": "f9395110",
   "metadata": {},
   "outputs": [],
   "source": [
    "tokyo_olympic_athletes_count.rename(columns={'Name':'Athlete Count'},inplace=True)"
   ]
  },
  {
   "cell_type": "markdown",
   "id": "3fe9841f",
   "metadata": {},
   "source": [
    "**Drop the 'Discipline' column of 'tokyo_olympic_athletes_count' as we won't need the information for analysis.**"
   ]
  },
  {
   "cell_type": "code",
   "execution_count": 168,
   "id": "d2a1fe0d",
   "metadata": {},
   "outputs": [],
   "source": [
    "tokyo_olympic_athletes_count.drop(columns='Discipline',inplace=True)"
   ]
  },
  {
   "cell_type": "markdown",
   "id": "13e7f5ca",
   "metadata": {},
   "source": [
    "**Since 'tokyo_olympic_athletes_count' dataframe is all set, left join 'tokyo_olympic_medals' dataframe with it on the 'NOC' column using join().**\n",
    "\n",
    "**Make new dataframe called 'tokyo_olympics_ath_count_medal'.**"
   ]
  },
  {
   "cell_type": "code",
   "execution_count": 169,
   "id": "c6d5cb52",
   "metadata": {},
   "outputs": [],
   "source": [
    "tokyo_olympics_ath_count_medal = tokyo_olympic_athletes_count.join(tokyo_olympic_medals.set_index('Team/NOC'), on='NOC')"
   ]
  },
  {
   "cell_type": "markdown",
   "id": "2bc7b3c1",
   "metadata": {},
   "source": [
    "**Check 'tokyo_olympics_ath_count_medal' info**"
   ]
  },
  {
   "cell_type": "code",
   "execution_count": 170,
   "id": "f033043e",
   "metadata": {},
   "outputs": [
    {
     "name": "stdout",
     "output_type": "stream",
     "text": [
      "<class 'pandas.core.frame.DataFrame'>\n",
      "Index: 206 entries, Afghanistan to Zimbabwe\n",
      "Data columns (total 7 columns):\n",
      " #   Column         Non-Null Count  Dtype  \n",
      "---  ------         --------------  -----  \n",
      " 0   Athlete Count  206 non-null    int64  \n",
      " 1   Rank           93 non-null     float64\n",
      " 2   Gold           93 non-null     float64\n",
      " 3   Silver         93 non-null     float64\n",
      " 4   Bronze         93 non-null     float64\n",
      " 5   Total          93 non-null     float64\n",
      " 6   Rank by Total  93 non-null     float64\n",
      "dtypes: float64(6), int64(1)\n",
      "memory usage: 12.9+ KB\n"
     ]
    }
   ],
   "source": [
    "tokyo_olympics_ath_count_medal.info()"
   ]
  },
  {
   "cell_type": "markdown",
   "id": "2e60d1d3",
   "metadata": {},
   "source": [
    "**Check the first five rows of 'tokyo_olympics_ath_count_medal'**"
   ]
  },
  {
   "cell_type": "code",
   "execution_count": 171,
   "id": "411b6ab6",
   "metadata": {},
   "outputs": [
    {
     "data": {
      "text/html": [
       "<div>\n",
       "<style scoped>\n",
       "    .dataframe tbody tr th:only-of-type {\n",
       "        vertical-align: middle;\n",
       "    }\n",
       "\n",
       "    .dataframe tbody tr th {\n",
       "        vertical-align: top;\n",
       "    }\n",
       "\n",
       "    .dataframe thead th {\n",
       "        text-align: right;\n",
       "    }\n",
       "</style>\n",
       "<table border=\"1\" class=\"dataframe\">\n",
       "  <thead>\n",
       "    <tr style=\"text-align: right;\">\n",
       "      <th></th>\n",
       "      <th>Athlete Count</th>\n",
       "      <th>Rank</th>\n",
       "      <th>Gold</th>\n",
       "      <th>Silver</th>\n",
       "      <th>Bronze</th>\n",
       "      <th>Total</th>\n",
       "      <th>Rank by Total</th>\n",
       "    </tr>\n",
       "    <tr>\n",
       "      <th>NOC</th>\n",
       "      <th></th>\n",
       "      <th></th>\n",
       "      <th></th>\n",
       "      <th></th>\n",
       "      <th></th>\n",
       "      <th></th>\n",
       "      <th></th>\n",
       "    </tr>\n",
       "  </thead>\n",
       "  <tbody>\n",
       "    <tr>\n",
       "      <th>Afghanistan</th>\n",
       "      <td>5</td>\n",
       "      <td>NaN</td>\n",
       "      <td>NaN</td>\n",
       "      <td>NaN</td>\n",
       "      <td>NaN</td>\n",
       "      <td>NaN</td>\n",
       "      <td>NaN</td>\n",
       "    </tr>\n",
       "    <tr>\n",
       "      <th>Albania</th>\n",
       "      <td>8</td>\n",
       "      <td>NaN</td>\n",
       "      <td>NaN</td>\n",
       "      <td>NaN</td>\n",
       "      <td>NaN</td>\n",
       "      <td>NaN</td>\n",
       "      <td>NaN</td>\n",
       "    </tr>\n",
       "    <tr>\n",
       "      <th>Algeria</th>\n",
       "      <td>41</td>\n",
       "      <td>NaN</td>\n",
       "      <td>NaN</td>\n",
       "      <td>NaN</td>\n",
       "      <td>NaN</td>\n",
       "      <td>NaN</td>\n",
       "      <td>NaN</td>\n",
       "    </tr>\n",
       "    <tr>\n",
       "      <th>American Samoa</th>\n",
       "      <td>5</td>\n",
       "      <td>NaN</td>\n",
       "      <td>NaN</td>\n",
       "      <td>NaN</td>\n",
       "      <td>NaN</td>\n",
       "      <td>NaN</td>\n",
       "      <td>NaN</td>\n",
       "    </tr>\n",
       "    <tr>\n",
       "      <th>Andorra</th>\n",
       "      <td>2</td>\n",
       "      <td>NaN</td>\n",
       "      <td>NaN</td>\n",
       "      <td>NaN</td>\n",
       "      <td>NaN</td>\n",
       "      <td>NaN</td>\n",
       "      <td>NaN</td>\n",
       "    </tr>\n",
       "  </tbody>\n",
       "</table>\n",
       "</div>"
      ],
      "text/plain": [
       "                Athlete Count  Rank  Gold  Silver  Bronze  Total  \\\n",
       "NOC                                                                \n",
       "Afghanistan                 5   NaN   NaN     NaN     NaN    NaN   \n",
       "Albania                     8   NaN   NaN     NaN     NaN    NaN   \n",
       "Algeria                    41   NaN   NaN     NaN     NaN    NaN   \n",
       "American Samoa              5   NaN   NaN     NaN     NaN    NaN   \n",
       "Andorra                     2   NaN   NaN     NaN     NaN    NaN   \n",
       "\n",
       "                Rank by Total  \n",
       "NOC                            \n",
       "Afghanistan               NaN  \n",
       "Albania                   NaN  \n",
       "Algeria                   NaN  \n",
       "American Samoa            NaN  \n",
       "Andorra                   NaN  "
      ]
     },
     "execution_count": 171,
     "metadata": {},
     "output_type": "execute_result"
    }
   ],
   "source": [
    "tokyo_olympics_ath_count_medal.head()"
   ]
  },
  {
   "cell_type": "markdown",
   "id": "2182e2b4",
   "metadata": {},
   "source": [
    "**There are null values in the Rank, Gold, Silver, Bronze, Total, Rank by Total columns as\n",
    "many countries do not win any medals.**\n",
    "\n",
    "**Replace Gold, Silver, Bronze, Total columns with 0 using replace().**"
   ]
  },
  {
   "cell_type": "code",
   "execution_count": 172,
   "id": "52ef1030",
   "metadata": {},
   "outputs": [
    {
     "data": {
      "text/html": [
       "<div>\n",
       "<style scoped>\n",
       "    .dataframe tbody tr th:only-of-type {\n",
       "        vertical-align: middle;\n",
       "    }\n",
       "\n",
       "    .dataframe tbody tr th {\n",
       "        vertical-align: top;\n",
       "    }\n",
       "\n",
       "    .dataframe thead th {\n",
       "        text-align: right;\n",
       "    }\n",
       "</style>\n",
       "<table border=\"1\" class=\"dataframe\">\n",
       "  <thead>\n",
       "    <tr style=\"text-align: right;\">\n",
       "      <th></th>\n",
       "      <th>Gold</th>\n",
       "      <th>Silver</th>\n",
       "      <th>Bronze</th>\n",
       "      <th>Total</th>\n",
       "    </tr>\n",
       "    <tr>\n",
       "      <th>NOC</th>\n",
       "      <th></th>\n",
       "      <th></th>\n",
       "      <th></th>\n",
       "      <th></th>\n",
       "    </tr>\n",
       "  </thead>\n",
       "  <tbody>\n",
       "    <tr>\n",
       "      <th>Afghanistan</th>\n",
       "      <td>0.0</td>\n",
       "      <td>0.0</td>\n",
       "      <td>0.0</td>\n",
       "      <td>0.0</td>\n",
       "    </tr>\n",
       "    <tr>\n",
       "      <th>Albania</th>\n",
       "      <td>0.0</td>\n",
       "      <td>0.0</td>\n",
       "      <td>0.0</td>\n",
       "      <td>0.0</td>\n",
       "    </tr>\n",
       "    <tr>\n",
       "      <th>Algeria</th>\n",
       "      <td>0.0</td>\n",
       "      <td>0.0</td>\n",
       "      <td>0.0</td>\n",
       "      <td>0.0</td>\n",
       "    </tr>\n",
       "    <tr>\n",
       "      <th>American Samoa</th>\n",
       "      <td>0.0</td>\n",
       "      <td>0.0</td>\n",
       "      <td>0.0</td>\n",
       "      <td>0.0</td>\n",
       "    </tr>\n",
       "    <tr>\n",
       "      <th>Andorra</th>\n",
       "      <td>0.0</td>\n",
       "      <td>0.0</td>\n",
       "      <td>0.0</td>\n",
       "      <td>0.0</td>\n",
       "    </tr>\n",
       "    <tr>\n",
       "      <th>...</th>\n",
       "      <td>...</td>\n",
       "      <td>...</td>\n",
       "      <td>...</td>\n",
       "      <td>...</td>\n",
       "    </tr>\n",
       "    <tr>\n",
       "      <th>Virgin Islands, British</th>\n",
       "      <td>0.0</td>\n",
       "      <td>0.0</td>\n",
       "      <td>0.0</td>\n",
       "      <td>0.0</td>\n",
       "    </tr>\n",
       "    <tr>\n",
       "      <th>Virgin Islands, US</th>\n",
       "      <td>0.0</td>\n",
       "      <td>0.0</td>\n",
       "      <td>0.0</td>\n",
       "      <td>0.0</td>\n",
       "    </tr>\n",
       "    <tr>\n",
       "      <th>Yemen</th>\n",
       "      <td>0.0</td>\n",
       "      <td>0.0</td>\n",
       "      <td>0.0</td>\n",
       "      <td>0.0</td>\n",
       "    </tr>\n",
       "    <tr>\n",
       "      <th>Zambia</th>\n",
       "      <td>0.0</td>\n",
       "      <td>0.0</td>\n",
       "      <td>0.0</td>\n",
       "      <td>0.0</td>\n",
       "    </tr>\n",
       "    <tr>\n",
       "      <th>Zimbabwe</th>\n",
       "      <td>0.0</td>\n",
       "      <td>0.0</td>\n",
       "      <td>0.0</td>\n",
       "      <td>0.0</td>\n",
       "    </tr>\n",
       "  </tbody>\n",
       "</table>\n",
       "<p>206 rows × 4 columns</p>\n",
       "</div>"
      ],
      "text/plain": [
       "                         Gold  Silver  Bronze  Total\n",
       "NOC                                                 \n",
       "Afghanistan               0.0     0.0     0.0    0.0\n",
       "Albania                   0.0     0.0     0.0    0.0\n",
       "Algeria                   0.0     0.0     0.0    0.0\n",
       "American Samoa            0.0     0.0     0.0    0.0\n",
       "Andorra                   0.0     0.0     0.0    0.0\n",
       "...                       ...     ...     ...    ...\n",
       "Virgin Islands, British   0.0     0.0     0.0    0.0\n",
       "Virgin Islands, US        0.0     0.0     0.0    0.0\n",
       "Yemen                     0.0     0.0     0.0    0.0\n",
       "Zambia                    0.0     0.0     0.0    0.0\n",
       "Zimbabwe                  0.0     0.0     0.0    0.0\n",
       "\n",
       "[206 rows x 4 columns]"
      ]
     },
     "execution_count": 172,
     "metadata": {},
     "output_type": "execute_result"
    }
   ],
   "source": [
    "tokyo_olympics_ath_count_medal[['Gold','Silver','Bronze','Total']].replace(np.nan,0)"
   ]
  },
  {
   "cell_type": "markdown",
   "id": "cd6febd2",
   "metadata": {},
   "source": [
    "## EXPLORATORY DATA ANALYSIS AND VISUALIZATION"
   ]
  },
  {
   "cell_type": "markdown",
   "id": "bf4f34a6",
   "metadata": {},
   "source": [
    "**Explore how many countries participated in the 2021 Tokyo Olympics using nunique() on index.**"
   ]
  },
  {
   "cell_type": "code",
   "execution_count": 173,
   "id": "c2805859",
   "metadata": {},
   "outputs": [
    {
     "data": {
      "text/plain": [
       "206"
      ]
     },
     "execution_count": 173,
     "metadata": {},
     "output_type": "execute_result"
    }
   ],
   "source": [
    "tokyo_olympics_ath_count_medal.index.nunique()"
   ]
  },
  {
   "cell_type": "markdown",
   "id": "22f217b2",
   "metadata": {},
   "source": [
    "**The code above shows 206 Countries participated in the 2021 Tokyo Olympics**"
   ]
  },
  {
   "cell_type": "markdown",
   "id": "c76cf8b8",
   "metadata": {},
   "source": [
    "**Explore how many countries won at least one medal.**"
   ]
  },
  {
   "cell_type": "code",
   "execution_count": 174,
   "id": "40288d0c",
   "metadata": {},
   "outputs": [
    {
     "data": {
      "text/html": [
       "<div>\n",
       "<style scoped>\n",
       "    .dataframe tbody tr th:only-of-type {\n",
       "        vertical-align: middle;\n",
       "    }\n",
       "\n",
       "    .dataframe tbody tr th {\n",
       "        vertical-align: top;\n",
       "    }\n",
       "\n",
       "    .dataframe thead th {\n",
       "        text-align: right;\n",
       "    }\n",
       "</style>\n",
       "<table border=\"1\" class=\"dataframe\">\n",
       "  <thead>\n",
       "    <tr style=\"text-align: right;\">\n",
       "      <th></th>\n",
       "      <th>Athlete Count</th>\n",
       "      <th>Rank</th>\n",
       "      <th>Gold</th>\n",
       "      <th>Silver</th>\n",
       "      <th>Bronze</th>\n",
       "      <th>Total</th>\n",
       "      <th>Rank by Total</th>\n",
       "    </tr>\n",
       "    <tr>\n",
       "      <th>NOC</th>\n",
       "      <th></th>\n",
       "      <th></th>\n",
       "      <th></th>\n",
       "      <th></th>\n",
       "      <th></th>\n",
       "      <th></th>\n",
       "      <th></th>\n",
       "    </tr>\n",
       "  </thead>\n",
       "  <tbody>\n",
       "    <tr>\n",
       "      <th>Argentina</th>\n",
       "      <td>180</td>\n",
       "      <td>72.0</td>\n",
       "      <td>0.0</td>\n",
       "      <td>1.0</td>\n",
       "      <td>2.0</td>\n",
       "      <td>3.0</td>\n",
       "      <td>60.0</td>\n",
       "    </tr>\n",
       "    <tr>\n",
       "      <th>Armenia</th>\n",
       "      <td>16</td>\n",
       "      <td>69.0</td>\n",
       "      <td>0.0</td>\n",
       "      <td>2.0</td>\n",
       "      <td>2.0</td>\n",
       "      <td>4.0</td>\n",
       "      <td>47.0</td>\n",
       "    </tr>\n",
       "    <tr>\n",
       "      <th>Australia</th>\n",
       "      <td>470</td>\n",
       "      <td>6.0</td>\n",
       "      <td>17.0</td>\n",
       "      <td>7.0</td>\n",
       "      <td>22.0</td>\n",
       "      <td>46.0</td>\n",
       "      <td>6.0</td>\n",
       "    </tr>\n",
       "    <tr>\n",
       "      <th>Austria</th>\n",
       "      <td>72</td>\n",
       "      <td>53.0</td>\n",
       "      <td>1.0</td>\n",
       "      <td>1.0</td>\n",
       "      <td>5.0</td>\n",
       "      <td>7.0</td>\n",
       "      <td>33.0</td>\n",
       "    </tr>\n",
       "    <tr>\n",
       "      <th>Azerbaijan</th>\n",
       "      <td>41</td>\n",
       "      <td>67.0</td>\n",
       "      <td>0.0</td>\n",
       "      <td>3.0</td>\n",
       "      <td>4.0</td>\n",
       "      <td>7.0</td>\n",
       "      <td>33.0</td>\n",
       "    </tr>\n",
       "    <tr>\n",
       "      <th>...</th>\n",
       "      <td>...</td>\n",
       "      <td>...</td>\n",
       "      <td>...</td>\n",
       "      <td>...</td>\n",
       "      <td>...</td>\n",
       "      <td>...</td>\n",
       "      <td>...</td>\n",
       "    </tr>\n",
       "    <tr>\n",
       "      <th>Uganda</th>\n",
       "      <td>24</td>\n",
       "      <td>36.0</td>\n",
       "      <td>2.0</td>\n",
       "      <td>1.0</td>\n",
       "      <td>1.0</td>\n",
       "      <td>4.0</td>\n",
       "      <td>47.0</td>\n",
       "    </tr>\n",
       "    <tr>\n",
       "      <th>Ukraine</th>\n",
       "      <td>152</td>\n",
       "      <td>44.0</td>\n",
       "      <td>1.0</td>\n",
       "      <td>6.0</td>\n",
       "      <td>12.0</td>\n",
       "      <td>19.0</td>\n",
       "      <td>16.0</td>\n",
       "    </tr>\n",
       "    <tr>\n",
       "      <th>United States of America</th>\n",
       "      <td>613</td>\n",
       "      <td>1.0</td>\n",
       "      <td>39.0</td>\n",
       "      <td>41.0</td>\n",
       "      <td>33.0</td>\n",
       "      <td>113.0</td>\n",
       "      <td>1.0</td>\n",
       "    </tr>\n",
       "    <tr>\n",
       "      <th>Uzbekistan</th>\n",
       "      <td>62</td>\n",
       "      <td>32.0</td>\n",
       "      <td>3.0</td>\n",
       "      <td>0.0</td>\n",
       "      <td>2.0</td>\n",
       "      <td>5.0</td>\n",
       "      <td>42.0</td>\n",
       "    </tr>\n",
       "    <tr>\n",
       "      <th>Venezuela</th>\n",
       "      <td>42</td>\n",
       "      <td>46.0</td>\n",
       "      <td>1.0</td>\n",
       "      <td>3.0</td>\n",
       "      <td>0.0</td>\n",
       "      <td>4.0</td>\n",
       "      <td>47.0</td>\n",
       "    </tr>\n",
       "  </tbody>\n",
       "</table>\n",
       "<p>93 rows × 7 columns</p>\n",
       "</div>"
      ],
      "text/plain": [
       "                          Athlete Count  Rank  Gold  Silver  Bronze  Total  \\\n",
       "NOC                                                                          \n",
       "Argentina                           180  72.0   0.0     1.0     2.0    3.0   \n",
       "Armenia                              16  69.0   0.0     2.0     2.0    4.0   \n",
       "Australia                           470   6.0  17.0     7.0    22.0   46.0   \n",
       "Austria                              72  53.0   1.0     1.0     5.0    7.0   \n",
       "Azerbaijan                           41  67.0   0.0     3.0     4.0    7.0   \n",
       "...                                 ...   ...   ...     ...     ...    ...   \n",
       "Uganda                               24  36.0   2.0     1.0     1.0    4.0   \n",
       "Ukraine                             152  44.0   1.0     6.0    12.0   19.0   \n",
       "United States of America            613   1.0  39.0    41.0    33.0  113.0   \n",
       "Uzbekistan                           62  32.0   3.0     0.0     2.0    5.0   \n",
       "Venezuela                            42  46.0   1.0     3.0     0.0    4.0   \n",
       "\n",
       "                          Rank by Total  \n",
       "NOC                                      \n",
       "Argentina                          60.0  \n",
       "Armenia                            47.0  \n",
       "Australia                           6.0  \n",
       "Austria                            33.0  \n",
       "Azerbaijan                         33.0  \n",
       "...                                 ...  \n",
       "Uganda                             47.0  \n",
       "Ukraine                            16.0  \n",
       "United States of America            1.0  \n",
       "Uzbekistan                         42.0  \n",
       "Venezuela                          47.0  \n",
       "\n",
       "[93 rows x 7 columns]"
      ]
     },
     "execution_count": 174,
     "metadata": {},
     "output_type": "execute_result"
    }
   ],
   "source": [
    "tokyo_olympics_ath_count_medal[tokyo_olympics_ath_count_medal['Total']>=1]"
   ]
  },
  {
   "cell_type": "markdown",
   "id": "813efb16",
   "metadata": {},
   "source": [
    "**The dataframe above shows 93 countries won at least one medal.**\n",
    "\n",
    "**Below make a new dataframe 'medal_total_distribution' to explore the distribution of countries by total medals won in the 2021 Tokyo Olympic Games using reset_index() and pivot_table().**"
   ]
  },
  {
   "cell_type": "code",
   "execution_count": 175,
   "id": "960043da",
   "metadata": {},
   "outputs": [],
   "source": [
    "medal_total_distribution = tokyo_olympics_ath_count_medal['Total'].reset_index().pivot_table(index='Total', aggfunc=lambda x: x.nunique())"
   ]
  },
  {
   "cell_type": "markdown",
   "id": "c678a4df",
   "metadata": {},
   "source": [
    "**Check the first five rows of 'medal_total_distribution'**"
   ]
  },
  {
   "cell_type": "code",
   "execution_count": 176,
   "id": "3bf2a925",
   "metadata": {},
   "outputs": [
    {
     "data": {
      "text/html": [
       "<div>\n",
       "<style scoped>\n",
       "    .dataframe tbody tr th:only-of-type {\n",
       "        vertical-align: middle;\n",
       "    }\n",
       "\n",
       "    .dataframe tbody tr th {\n",
       "        vertical-align: top;\n",
       "    }\n",
       "\n",
       "    .dataframe thead th {\n",
       "        text-align: right;\n",
       "    }\n",
       "</style>\n",
       "<table border=\"1\" class=\"dataframe\">\n",
       "  <thead>\n",
       "    <tr style=\"text-align: right;\">\n",
       "      <th></th>\n",
       "      <th>NOC</th>\n",
       "    </tr>\n",
       "    <tr>\n",
       "      <th>Total</th>\n",
       "      <th></th>\n",
       "    </tr>\n",
       "  </thead>\n",
       "  <tbody>\n",
       "    <tr>\n",
       "      <th>1.0</th>\n",
       "      <td>17</td>\n",
       "    </tr>\n",
       "    <tr>\n",
       "      <th>2.0</th>\n",
       "      <td>11</td>\n",
       "    </tr>\n",
       "    <tr>\n",
       "      <th>3.0</th>\n",
       "      <td>6</td>\n",
       "    </tr>\n",
       "    <tr>\n",
       "      <th>4.0</th>\n",
       "      <td>13</td>\n",
       "    </tr>\n",
       "    <tr>\n",
       "      <th>5.0</th>\n",
       "      <td>5</td>\n",
       "    </tr>\n",
       "  </tbody>\n",
       "</table>\n",
       "</div>"
      ],
      "text/plain": [
       "       NOC\n",
       "Total     \n",
       "1.0     17\n",
       "2.0     11\n",
       "3.0      6\n",
       "4.0     13\n",
       "5.0      5"
      ]
     },
     "execution_count": 176,
     "metadata": {},
     "output_type": "execute_result"
    }
   ],
   "source": [
    "medal_total_distribution.head()"
   ]
  },
  {
   "cell_type": "markdown",
   "id": "7a52e5ac",
   "metadata": {},
   "source": [
    "**Use 'medal_total_distribution' dataframe to make barplot exploring the Distribution of Countries by Total Medals Won.**"
   ]
  },
  {
   "cell_type": "code",
   "execution_count": 177,
   "id": "eb782515",
   "metadata": {},
   "outputs": [
    {
     "data": {
      "text/plain": [
       "Text(0.5, 1.0, 'Distribution of Countries by Total Medals won')"
      ]
     },
     "execution_count": 177,
     "metadata": {},
     "output_type": "execute_result"
    },
    {
     "data": {
      "image/png": "[encoded data removed]",
      "text/plain": [
       "<Figure size 1080x576 with 1 Axes>"
      ]
     },
     "metadata": {
      "needs_background": "light"
     },
     "output_type": "display_data"
    }
   ],
   "source": [
    "plt.figure(figsize=(15,8))\n",
    "ax = sns.barplot(data=medal_total_distribution,x=medal_total_distribution.index,y='NOC')\n",
    "ax.set(xlabel='Total Medals', ylabel='Number of Countries')\n",
    "ax.set_title(label='Distribution of Countries by Total Medals won')"
   ]
  },
  {
   "cell_type": "markdown",
   "id": "9dea1517",
   "metadata": {},
   "source": [
    "* **The plot above shows, of the 93 countries that won at least one medal, the majority of countries won less than 10 total medals.**\n",
    "* **At the left end of the plot, 17 countries won only one medal.**\n",
    "* **At the right end of the plot, one country won 113 medals.**"
   ]
  },
  {
   "cell_type": "markdown",
   "id": "ce06b8c9",
   "metadata": {},
   "source": [
    "**Below, make new dataframe 'Athlete_Count_distribution' to explore the distribution of countries by Athlete Count using reset_index() and pivot_table()**"
   ]
  },
  {
   "cell_type": "code",
   "execution_count": 178,
   "id": "971ad38b",
   "metadata": {},
   "outputs": [],
   "source": [
    "Athlete_Count_distribution=tokyo_olympics_ath_count_medal['Athlete Count'].reset_index().pivot_table(index='Athlete Count', aggfunc=lambda x: x.nunique())"
   ]
  },
  {
   "cell_type": "markdown",
   "id": "ad952671",
   "metadata": {},
   "source": [
    "**Check the first five rows of 'Athlete_Count_distribution'**"
   ]
  },
  {
   "cell_type": "code",
   "execution_count": 179,
   "id": "87f8e416",
   "metadata": {},
   "outputs": [
    {
     "data": {
      "text/html": [
       "<div>\n",
       "<style scoped>\n",
       "    .dataframe tbody tr th:only-of-type {\n",
       "        vertical-align: middle;\n",
       "    }\n",
       "\n",
       "    .dataframe tbody tr th {\n",
       "        vertical-align: top;\n",
       "    }\n",
       "\n",
       "    .dataframe thead th {\n",
       "        text-align: right;\n",
       "    }\n",
       "</style>\n",
       "<table border=\"1\" class=\"dataframe\">\n",
       "  <thead>\n",
       "    <tr style=\"text-align: right;\">\n",
       "      <th></th>\n",
       "      <th>NOC</th>\n",
       "    </tr>\n",
       "    <tr>\n",
       "      <th>Athlete Count</th>\n",
       "      <th></th>\n",
       "    </tr>\n",
       "  </thead>\n",
       "  <tbody>\n",
       "    <tr>\n",
       "      <th>2</th>\n",
       "      <td>17</td>\n",
       "    </tr>\n",
       "    <tr>\n",
       "      <th>3</th>\n",
       "      <td>19</td>\n",
       "    </tr>\n",
       "    <tr>\n",
       "      <th>4</th>\n",
       "      <td>15</td>\n",
       "    </tr>\n",
       "    <tr>\n",
       "      <th>5</th>\n",
       "      <td>18</td>\n",
       "    </tr>\n",
       "    <tr>\n",
       "      <th>6</th>\n",
       "      <td>12</td>\n",
       "    </tr>\n",
       "  </tbody>\n",
       "</table>\n",
       "</div>"
      ],
      "text/plain": [
       "               NOC\n",
       "Athlete Count     \n",
       "2               17\n",
       "3               19\n",
       "4               15\n",
       "5               18\n",
       "6               12"
      ]
     },
     "execution_count": 179,
     "metadata": {},
     "output_type": "execute_result"
    }
   ],
   "source": [
    "Athlete_Count_distribution.head()"
   ]
  },
  {
   "cell_type": "markdown",
   "id": "a704f0b9",
   "metadata": {},
   "source": [
    "**Use 'Athlete_Count_distribution' dataframe to make Barplot exploring the Distribution of Countries by Athlete Count.**"
   ]
  },
  {
   "cell_type": "code",
   "execution_count": 180,
   "id": "95ae8f47",
   "metadata": {},
   "outputs": [
    {
     "data": {
      "image/png": "[encoded data removed]",
      "text/plain": [
       "<Figure size 1944x576 with 1 Axes>"
      ]
     },
     "metadata": {
      "needs_background": "light"
     },
     "output_type": "display_data"
    }
   ],
   "source": [
    "plt.figure(figsize=(27,8))\n",
    "ax1 = sns.barplot(data=Athlete_Count_distribution,x=Athlete_Count_distribution.index,y='NOC')\n",
    "ax1.set(xlabel='Athlete Count', ylabel='Number of Countries')\n",
    "ax1.set_title(label='Distribution of Countries by Athlete Count')\n",
    "plt.tight_layout()"
   ]
  },
  {
   "cell_type": "markdown",
   "id": "4c6a5f57",
   "metadata": {},
   "source": [
    "* **The plot above shows of the 206 countries that participated, many countries sent less than 10 athletes.**\n",
    "* **On the left end of the plot 17 countries sent just 2 athletes.**\n",
    "* **On the right end of the plot one country sent 615 athletes.**"
   ]
  },
  {
   "cell_type": "markdown",
   "id": "e41297af",
   "metadata": {},
   "source": [
    "**Make barplot showing the top 10 countries with most medals.**"
   ]
  },
  {
   "cell_type": "code",
   "execution_count": 181,
   "id": "46041170",
   "metadata": {},
   "outputs": [
    {
     "data": {
      "text/plain": [
       "Text(0, 0.5, 'Number of Total Medals')"
      ]
     },
     "execution_count": 181,
     "metadata": {},
     "output_type": "execute_result"
    },
    {
     "data": {
      "image/png": "[encoded data removed]",
      "text/plain": [
       "<Figure size 576x432 with 1 Axes>"
      ]
     },
     "metadata": {
      "needs_background": "light"
     },
     "output_type": "display_data"
    }
   ],
   "source": [
    "plt.figure(figsize=(8,6))\n",
    "ax2 = tokyo_olympics_ath_count_medal['Total'].sort_values(ascending=False).head(10).plot(kind='bar',ec='gray')\n",
    "ax2.set_title(label='Countries with Most Total Medals')\n",
    "ax2.set_ylabel(ylabel='Number of Total Medals')"
   ]
  },
  {
   "cell_type": "markdown",
   "id": "1aad03d6",
   "metadata": {},
   "source": [
    "* **The plot above shows United States won the most with over a 100 total medals.**\n",
    "* **France in 10th place, won less than 40 total medals.**"
   ]
  },
  {
   "cell_type": "markdown",
   "id": "5d2e3984",
   "metadata": {},
   "source": [
    "**Make barplot showing the top 10 countries with the most Athlete Count.**"
   ]
  },
  {
   "cell_type": "code",
   "execution_count": 182,
   "id": "ec367443",
   "metadata": {},
   "outputs": [
    {
     "data": {
      "text/plain": [
       "Text(0, 0.5, 'Number of Athletes')"
      ]
     },
     "execution_count": 182,
     "metadata": {},
     "output_type": "execute_result"
    },
    {
     "data": {
      "image/png": "[encoded data removed]",
      "text/plain": [
       "<Figure size 576x432 with 1 Axes>"
      ]
     },
     "metadata": {
      "needs_background": "light"
     },
     "output_type": "display_data"
    }
   ],
   "source": [
    "plt.figure(figsize=(8,6))\n",
    "ax4 = tokyo_olympics_ath_count_medal['Athlete Count'].sort_values(ascending=False).head(10).plot(kind='bar',ec='gray')\n",
    "ax4.set_title(label='Countries with Most Athlete Count')\n",
    "ax4.set_ylabel(ylabel='Number of Athletes')"
   ]
  },
  {
   "cell_type": "markdown",
   "id": "8e5e96fd",
   "metadata": {},
   "source": [
    "* **The plot above shows United States had the most athletes with over 600.**\n",
    "* **Japan was a close second with just under 600.**"
   ]
  },
  {
   "cell_type": "markdown",
   "id": "b05db7d3",
   "metadata": {},
   "source": [
    "**Below, make a matrix of the correlation of Athlete Count and Medals won.**"
   ]
  },
  {
   "cell_type": "code",
   "execution_count": 183,
   "id": "93b579d9",
   "metadata": {},
   "outputs": [
    {
     "data": {
      "text/html": [
       "<div>\n",
       "<style scoped>\n",
       "    .dataframe tbody tr th:only-of-type {\n",
       "        vertical-align: middle;\n",
       "    }\n",
       "\n",
       "    .dataframe tbody tr th {\n",
       "        vertical-align: top;\n",
       "    }\n",
       "\n",
       "    .dataframe thead th {\n",
       "        text-align: right;\n",
       "    }\n",
       "</style>\n",
       "<table border=\"1\" class=\"dataframe\">\n",
       "  <thead>\n",
       "    <tr style=\"text-align: right;\">\n",
       "      <th></th>\n",
       "      <th>Athlete Count</th>\n",
       "      <th>Gold</th>\n",
       "      <th>Silver</th>\n",
       "      <th>Bronze</th>\n",
       "      <th>Total</th>\n",
       "    </tr>\n",
       "  </thead>\n",
       "  <tbody>\n",
       "    <tr>\n",
       "      <th>Athlete Count</th>\n",
       "      <td>1.000000</td>\n",
       "      <td>0.839374</td>\n",
       "      <td>0.795548</td>\n",
       "      <td>0.890871</td>\n",
       "      <td>0.874674</td>\n",
       "    </tr>\n",
       "    <tr>\n",
       "      <th>Gold</th>\n",
       "      <td>0.839374</td>\n",
       "      <td>1.000000</td>\n",
       "      <td>0.929046</td>\n",
       "      <td>0.862425</td>\n",
       "      <td>0.970840</td>\n",
       "    </tr>\n",
       "    <tr>\n",
       "      <th>Silver</th>\n",
       "      <td>0.795548</td>\n",
       "      <td>0.929046</td>\n",
       "      <td>1.000000</td>\n",
       "      <td>0.862646</td>\n",
       "      <td>0.969439</td>\n",
       "    </tr>\n",
       "    <tr>\n",
       "      <th>Bronze</th>\n",
       "      <td>0.890871</td>\n",
       "      <td>0.862425</td>\n",
       "      <td>0.862646</td>\n",
       "      <td>1.000000</td>\n",
       "      <td>0.941941</td>\n",
       "    </tr>\n",
       "    <tr>\n",
       "      <th>Total</th>\n",
       "      <td>0.874674</td>\n",
       "      <td>0.970840</td>\n",
       "      <td>0.969439</td>\n",
       "      <td>0.941941</td>\n",
       "      <td>1.000000</td>\n",
       "    </tr>\n",
       "  </tbody>\n",
       "</table>\n",
       "</div>"
      ],
      "text/plain": [
       "               Athlete Count      Gold    Silver    Bronze     Total\n",
       "Athlete Count       1.000000  0.839374  0.795548  0.890871  0.874674\n",
       "Gold                0.839374  1.000000  0.929046  0.862425  0.970840\n",
       "Silver              0.795548  0.929046  1.000000  0.862646  0.969439\n",
       "Bronze              0.890871  0.862425  0.862646  1.000000  0.941941\n",
       "Total               0.874674  0.970840  0.969439  0.941941  1.000000"
      ]
     },
     "execution_count": 183,
     "metadata": {},
     "output_type": "execute_result"
    }
   ],
   "source": [
    "tokyo_olympics_ath_count_medal.drop(['Rank','Rank by Total'],axis=1).corr(method='pearson')"
   ]
  },
  {
   "cell_type": "markdown",
   "id": "f94f0fc4",
   "metadata": {},
   "source": [
    "**Make heatmap of the correlation of Athlete Count and Medals won.**"
   ]
  },
  {
   "cell_type": "code",
   "execution_count": 184,
   "id": "babfdf34",
   "metadata": {},
   "outputs": [
    {
     "data": {
      "text/plain": [
       "Text(0.5, 1.0, 'Correlation between Athlete Count and Medals won')"
      ]
     },
     "execution_count": 184,
     "metadata": {},
     "output_type": "execute_result"
    },
    {
     "data": {
      "image/png": "[encoded data removed]",
      "text/plain": [
       "<Figure size 576x432 with 2 Axes>"
      ]
     },
     "metadata": {
      "needs_background": "light"
     },
     "output_type": "display_data"
    }
   ],
   "source": [
    "plt.figure(figsize=(8,6))\n",
    "ax5=sns.heatmap(data=tokyo_olympics_ath_count_medal.drop(columns=['Rank','Rank by Total']).corr(method='pearson'),cmap='coolwarm',annot=True,vmin=0, vmax=1)\n",
    "ax5.set_title(label='Correlation between Athlete Count and Medals won')"
   ]
  },
  {
   "cell_type": "markdown",
   "id": "72fa2403",
   "metadata": {},
   "source": [
    "* **There is a correlation between the number of athletes a country sends to the Olympics and the number of medals won by the country.**\n",
    "\n",
    "* **Athlete Count and Total Medal Pearson R = 0.87**\n",
    "\n",
    "* **The correlation is the strongest for Bronze medals.**\n",
    "\n",
    "* **Athlete Count and Bronze Medal Pearson R = 0.89**"
   ]
  },
  {
   "cell_type": "markdown",
   "id": "86b9b6f2",
   "metadata": {},
   "source": [
    "## PREPARING AND CLEANING THE GDP DATA\n",
    "\n",
    "**Now we will prepare GDP Per Capita data to get its correlation with total medals won.**"
   ]
  },
  {
   "cell_type": "markdown",
   "id": "3419d7d1",
   "metadata": {},
   "source": [
    "**To get GDP per capita data, read in the 'world_gdp_data.csv' csv file as a dataframe called 'gdp_pcapita'**"
   ]
  },
  {
   "cell_type": "code",
   "execution_count": 185,
   "id": "33f99e41",
   "metadata": {},
   "outputs": [],
   "source": [
    "gdp_pcapita = pd.read_csv('world_gdp_data.csv')"
   ]
  },
  {
   "cell_type": "markdown",
   "id": "4819ad06",
   "metadata": {},
   "source": [
    "**Check the info of the 'gdp_pcapita' dataframe.**"
   ]
  },
  {
   "cell_type": "code",
   "execution_count": 186,
   "id": "1b68127c",
   "metadata": {},
   "outputs": [
    {
     "name": "stdout",
     "output_type": "stream",
     "text": [
      "<class 'pandas.core.frame.DataFrame'>\n",
      "RangeIndex: 271 entries, 0 to 270\n",
      "Data columns (total 9 columns):\n",
      " #   Column         Non-Null Count  Dtype \n",
      "---  ------         --------------  ----- \n",
      " 0   Series Name    268 non-null    object\n",
      " 1   Series Code    266 non-null    object\n",
      " 2   Country Name   266 non-null    object\n",
      " 3   Country Code   266 non-null    object\n",
      " 4   2016 [YR2016]  266 non-null    object\n",
      " 5   2017 [YR2017]  266 non-null    object\n",
      " 6   2018 [YR2018]  266 non-null    object\n",
      " 7   2019 [YR2019]  266 non-null    object\n",
      " 8   2020 [YR2020]  266 non-null    object\n",
      "dtypes: object(9)\n",
      "memory usage: 19.2+ KB\n"
     ]
    }
   ],
   "source": [
    "gdp_pcapita.info()"
   ]
  },
  {
   "cell_type": "markdown",
   "id": "f2b6eff2",
   "metadata": {},
   "source": [
    "**Check the first 5 rows of the dataframe.**"
   ]
  },
  {
   "cell_type": "code",
   "execution_count": 187,
   "id": "03160d8d",
   "metadata": {},
   "outputs": [
    {
     "data": {
      "text/html": [
       "<div>\n",
       "<style scoped>\n",
       "    .dataframe tbody tr th:only-of-type {\n",
       "        vertical-align: middle;\n",
       "    }\n",
       "\n",
       "    .dataframe tbody tr th {\n",
       "        vertical-align: top;\n",
       "    }\n",
       "\n",
       "    .dataframe thead th {\n",
       "        text-align: right;\n",
       "    }\n",
       "</style>\n",
       "<table border=\"1\" class=\"dataframe\">\n",
       "  <thead>\n",
       "    <tr style=\"text-align: right;\">\n",
       "      <th></th>\n",
       "      <th>Series Name</th>\n",
       "      <th>Series Code</th>\n",
       "      <th>Country Name</th>\n",
       "      <th>Country Code</th>\n",
       "      <th>2016 [YR2016]</th>\n",
       "      <th>2017 [YR2017]</th>\n",
       "      <th>2018 [YR2018]</th>\n",
       "      <th>2019 [YR2019]</th>\n",
       "      <th>2020 [YR2020]</th>\n",
       "    </tr>\n",
       "  </thead>\n",
       "  <tbody>\n",
       "    <tr>\n",
       "      <th>0</th>\n",
       "      <td>GDP per capita (current US$)</td>\n",
       "      <td>NY.GDP.PCAP.CD</td>\n",
       "      <td>Afghanistan</td>\n",
       "      <td>AFG</td>\n",
       "      <td>509.220100485356</td>\n",
       "      <td>519.888912573073</td>\n",
       "      <td>493.756581366026</td>\n",
       "      <td>507.103391875763</td>\n",
       "      <td>508.808409485223</td>\n",
       "    </tr>\n",
       "    <tr>\n",
       "      <th>1</th>\n",
       "      <td>GDP per capita (current US$)</td>\n",
       "      <td>NY.GDP.PCAP.CD</td>\n",
       "      <td>Albania</td>\n",
       "      <td>ALB</td>\n",
       "      <td>4124.05572595352</td>\n",
       "      <td>4531.02080555986</td>\n",
       "      <td>5284.38018438156</td>\n",
       "      <td>5355.84779459031</td>\n",
       "      <td>5215.27675237003</td>\n",
       "    </tr>\n",
       "    <tr>\n",
       "      <th>2</th>\n",
       "      <td>GDP per capita (current US$)</td>\n",
       "      <td>NY.GDP.PCAP.CD</td>\n",
       "      <td>Algeria</td>\n",
       "      <td>DZA</td>\n",
       "      <td>3946.45242459305</td>\n",
       "      <td>4109.70344220826</td>\n",
       "      <td>4153.95623446741</td>\n",
       "      <td>3975.5089933335</td>\n",
       "      <td>3310.38653352368</td>\n",
       "    </tr>\n",
       "    <tr>\n",
       "      <th>3</th>\n",
       "      <td>GDP per capita (current US$)</td>\n",
       "      <td>NY.GDP.PCAP.CD</td>\n",
       "      <td>American Samoa</td>\n",
       "      <td>ASM</td>\n",
       "      <td>12038.2496994923</td>\n",
       "      <td>11003.8297642807</td>\n",
       "      <td>11557.671156308</td>\n",
       "      <td>11534.5675441134</td>\n",
       "      <td>..</td>\n",
       "    </tr>\n",
       "    <tr>\n",
       "      <th>4</th>\n",
       "      <td>GDP per capita (current US$)</td>\n",
       "      <td>NY.GDP.PCAP.CD</td>\n",
       "      <td>Andorra</td>\n",
       "      <td>AND</td>\n",
       "      <td>37475.6350587526</td>\n",
       "      <td>38964.904478265</td>\n",
       "      <td>41791.9698372411</td>\n",
       "      <td>40897.3308728669</td>\n",
       "      <td>..</td>\n",
       "    </tr>\n",
       "  </tbody>\n",
       "</table>\n",
       "</div>"
      ],
      "text/plain": [
       "                    Series Name     Series Code    Country Name Country Code  \\\n",
       "0  GDP per capita (current US$)  NY.GDP.PCAP.CD     Afghanistan          AFG   \n",
       "1  GDP per capita (current US$)  NY.GDP.PCAP.CD         Albania          ALB   \n",
       "2  GDP per capita (current US$)  NY.GDP.PCAP.CD         Algeria          DZA   \n",
       "3  GDP per capita (current US$)  NY.GDP.PCAP.CD  American Samoa          ASM   \n",
       "4  GDP per capita (current US$)  NY.GDP.PCAP.CD         Andorra          AND   \n",
       "\n",
       "      2016 [YR2016]     2017 [YR2017]     2018 [YR2018]     2019 [YR2019]  \\\n",
       "0  509.220100485356  519.888912573073  493.756581366026  507.103391875763   \n",
       "1  4124.05572595352  4531.02080555986  5284.38018438156  5355.84779459031   \n",
       "2  3946.45242459305  4109.70344220826  4153.95623446741   3975.5089933335   \n",
       "3  12038.2496994923  11003.8297642807   11557.671156308  11534.5675441134   \n",
       "4  37475.6350587526   38964.904478265  41791.9698372411  40897.3308728669   \n",
       "\n",
       "      2020 [YR2020]  \n",
       "0  508.808409485223  \n",
       "1  5215.27675237003  \n",
       "2  3310.38653352368  \n",
       "3                ..  \n",
       "4                ..  "
      ]
     },
     "execution_count": 187,
     "metadata": {},
     "output_type": "execute_result"
    }
   ],
   "source": [
    "gdp_pcapita.head(5)"
   ]
  },
  {
   "cell_type": "markdown",
   "id": "94b8df1a",
   "metadata": {},
   "source": [
    "**Check if any columns have any null values.**\n",
    "\n",
    "**All columns have null values. \n",
    "In this exploration, we will only use the \"2020 [YR2020]\" column. We will clean the cells once we join it with the 'tokyo_olympics_ath_count_medal' dataframe.**"
   ]
  },
  {
   "cell_type": "code",
   "execution_count": 188,
   "id": "7274009e",
   "metadata": {},
   "outputs": [
    {
     "data": {
      "text/plain": [
       "Series Name      True\n",
       "Series Code      True\n",
       "Country Name     True\n",
       "Country Code     True\n",
       "2016 [YR2016]    True\n",
       "2017 [YR2017]    True\n",
       "2018 [YR2018]    True\n",
       "2019 [YR2019]    True\n",
       "2020 [YR2020]    True\n",
       "dtype: bool"
      ]
     },
     "execution_count": 188,
     "metadata": {},
     "output_type": "execute_result"
    }
   ],
   "source": [
    "gdp_pcapita.isnull().any()"
   ]
  },
  {
   "cell_type": "markdown",
   "id": "f97b05e8",
   "metadata": {},
   "source": [
    "**All columns have null values. \n",
    "In this exploration, we will only use the \"2020 [YR2020]\" column. We will clean the cells once we join it with the 'tokyo_olympics_ath_count_medal' dataframe.**"
   ]
  },
  {
   "cell_type": "markdown",
   "id": "74ba04c2",
   "metadata": {},
   "source": [
    "**Below, change 'gdp_pcapita' index to country name.**"
   ]
  },
  {
   "cell_type": "code",
   "execution_count": 189,
   "id": "6331478f",
   "metadata": {},
   "outputs": [],
   "source": [
    "gdp_pcapita = gdp_pcapita.set_index('Country Name')"
   ]
  },
  {
   "cell_type": "markdown",
   "id": "8289299e",
   "metadata": {},
   "source": [
    "**Find country names in 'gdp_pcapita' index which are different from country names in\n",
    "'tokyo_olympics_ath_count_medal' index using difference(). We will need to match the country names in 'gdp_pcapita' to the ones in 'tokyo_olympics_ath_count_medal' to join the two dataframes**"
   ]
  },
  {
   "cell_type": "code",
   "execution_count": 190,
   "id": "86494a0a",
   "metadata": {},
   "outputs": [],
   "source": [
    "idx1 = tokyo_olympics_ath_count_medal.index\n",
    "idx2 = gdp_pcapita.index"
   ]
  },
  {
   "cell_type": "code",
   "execution_count": 191,
   "id": "0cae455e",
   "metadata": {},
   "outputs": [
    {
     "data": {
      "text/plain": [
       "Index(['Bahamas', 'Cape Verde', 'Chinese Taipei', 'Congo', 'Cook Islands',\n",
       "       'Côte d'Ivoire', 'Democratic Republic of Timor-Leste',\n",
       "       'Democratic Republic of the Congo', 'Egypt',\n",
       "       'Federated States of Micronesia', 'Gambia', 'Great Britain',\n",
       "       'Hong Kong, China', 'Islamic Republic of Iran', 'Kyrgyzstan',\n",
       "       'Lao People's Democratic Republic', 'Palestine',\n",
       "       'People's Republic of China', 'ROC', 'Refugee Olympic Team',\n",
       "       'Republic of Korea', 'Republic of Moldova', 'Saint Kitts and Nevis',\n",
       "       'Saint Lucia', 'Slovakia', 'St Vincent and the Grenadines',\n",
       "       'United Republic of Tanzania', 'United States of America', 'Venezuela',\n",
       "       'Virgin Islands, British', 'Virgin Islands, US', 'Yemen'],\n",
       "      dtype='object')"
      ]
     },
     "execution_count": 191,
     "metadata": {},
     "output_type": "execute_result"
    }
   ],
   "source": [
    "idx1.difference(idx2)"
   ]
  },
  {
   "cell_type": "markdown",
   "id": "7c6e68ff",
   "metadata": {},
   "source": [
    "**Make dictionary to match the country names in 'gdp_pcapita' index to the names in 'tokyo_olympics_ath_count_medal'.**\n",
    "\n",
    "**\"Chinese Taipei\" and \"Cuba\" do not exist in the 'gdp_pcapita' dataframe.**"
   ]
  },
  {
   "cell_type": "code",
   "execution_count": 192,
   "id": "a942843b",
   "metadata": {},
   "outputs": [],
   "source": [
    "world_bank_to_oly_index = {\"Bahamas, The\":\"Bahamas\", \"Cabo Verde\":\"Cape Verde\", \"Congo, Rep.\":\"Congo\", \"Pacific Islands\":\"Cook Islands\", \"Cote d'Ivoire\":\"Côte d'Ivoire\", \"Timor-Leste\":\"Democratic Republic of Timor-Leste\",\"Congo, Dem. Rep.\":\"Democratic Republic of the Congo\", \"Egypt, Arab Rep.\":\"Egypt\",\"Micronesia, Fed. Sts.\":\"Federated States of Micronesia\", \"Gambia, The\":\"Gambia\", \"United Kingdom\":\"Great Britain\",\"Hong Kong SAR, China\":\"Hong Kong, China\", \"Iran, Islamic Rep.\":\"Islamic Republic of Iran\", \"Kyrgyz Republic\":\"Kyrgyzstan\",\"Lao PDR\":\"Lao People's Democratic Republic\", \"West Bank and Gaza\":\"Palestine\",\"China\":\"People's Republic of China\",\"Russian Federation\":\"ROC\",\"Korea, Rep.\":\"Republic of Korea\", \"Moldova\":\"Republic of Moldova\",\"St. Kitts and Nevis\":\"Saint Kitts and Nevis\",\"St. Lucia\":\"Saint Lucia\",\"Slovak Republic\":\"Slovakia\", \"St. Vincent and the Grenadines\":\"St Vincent and the Grenadines\",\"Tanzania\":\"United Republic of Tanzania\", \"United States\":\"United States of America\", \"Venezuela, RB\":\"Venezuela\", \"Virgin Islands (U.S.)\":\"Virgin Islands, US\", \"Yemen, Rep.\":\"Yemen\"}"
   ]
  },
  {
   "cell_type": "markdown",
   "id": "8ce16522",
   "metadata": {},
   "source": [
    "**Rename 'gdp_pcapita' index to match 'tokyo_olympics_ath_count_medal' with rename()**"
   ]
  },
  {
   "cell_type": "code",
   "execution_count": 193,
   "id": "9a6625fc",
   "metadata": {},
   "outputs": [],
   "source": [
    "gdp_pcapita.rename(index = world_bank_to_oly_index, inplace=True)"
   ]
  },
  {
   "cell_type": "markdown",
   "id": "0702b2b9",
   "metadata": {},
   "source": [
    "**Left join 'tokyo_olympics_ath_count_medal' dataframe with 'gdp_pcapita' on the 'NOC' column using join().**\n",
    "\n",
    "**Make new dataframe called 'tokyo_olympics_medal_gdp'.**"
   ]
  },
  {
   "cell_type": "code",
   "execution_count": 194,
   "id": "8f15e80a",
   "metadata": {},
   "outputs": [],
   "source": [
    "tokyo_olympics_medal_gdp=tokyo_olympics_ath_count_medal.join(gdp_pcapita[\"2020 [YR2020]\"], on='NOC')"
   ]
  },
  {
   "cell_type": "markdown",
   "id": "a3246ea3",
   "metadata": {},
   "source": [
    "**Check the info of the 'tokyo_olympics_medal_gdp' dataframe.**"
   ]
  },
  {
   "cell_type": "code",
   "execution_count": 195,
   "id": "2e497345",
   "metadata": {},
   "outputs": [
    {
     "name": "stdout",
     "output_type": "stream",
     "text": [
      "<class 'pandas.core.frame.DataFrame'>\n",
      "Index: 206 entries, Afghanistan to Zimbabwe\n",
      "Data columns (total 8 columns):\n",
      " #   Column         Non-Null Count  Dtype  \n",
      "---  ------         --------------  -----  \n",
      " 0   Athlete Count  206 non-null    int64  \n",
      " 1   Rank           93 non-null     float64\n",
      " 2   Gold           93 non-null     float64\n",
      " 3   Silver         93 non-null     float64\n",
      " 4   Bronze         93 non-null     float64\n",
      " 5   Total          93 non-null     float64\n",
      " 6   Rank by Total  93 non-null     float64\n",
      " 7   2020 [YR2020]  202 non-null    object \n",
      "dtypes: float64(6), int64(1), object(1)\n",
      "memory usage: 22.6+ KB\n"
     ]
    }
   ],
   "source": [
    "tokyo_olympics_medal_gdp.info()"
   ]
  },
  {
   "cell_type": "markdown",
   "id": "c6f9bf9d",
   "metadata": {},
   "source": [
    "**Change '2020 [YR2020]' column datatype from 'object' to 'float' with pd.to_numeric() and round the numbers with round()**"
   ]
  },
  {
   "cell_type": "code",
   "execution_count": 196,
   "id": "27ebb776",
   "metadata": {},
   "outputs": [],
   "source": [
    "tokyo_olympics_medal_gdp[\"2020 [YR2020]\"]=pd.to_numeric(tokyo_olympics_medal_gdp[\"2020 [YR2020]\"],errors='coerce').round(0)"
   ]
  },
  {
   "cell_type": "markdown",
   "id": "336ab5a2",
   "metadata": {},
   "source": [
    "**Check the first five rows of the 'tokyo_olympics_medal_gdp' dataframe.**"
   ]
  },
  {
   "cell_type": "code",
   "execution_count": 197,
   "id": "b3528713",
   "metadata": {},
   "outputs": [
    {
     "data": {
      "text/html": [
       "<div>\n",
       "<style scoped>\n",
       "    .dataframe tbody tr th:only-of-type {\n",
       "        vertical-align: middle;\n",
       "    }\n",
       "\n",
       "    .dataframe tbody tr th {\n",
       "        vertical-align: top;\n",
       "    }\n",
       "\n",
       "    .dataframe thead th {\n",
       "        text-align: right;\n",
       "    }\n",
       "</style>\n",
       "<table border=\"1\" class=\"dataframe\">\n",
       "  <thead>\n",
       "    <tr style=\"text-align: right;\">\n",
       "      <th></th>\n",
       "      <th>Athlete Count</th>\n",
       "      <th>Rank</th>\n",
       "      <th>Gold</th>\n",
       "      <th>Silver</th>\n",
       "      <th>Bronze</th>\n",
       "      <th>Total</th>\n",
       "      <th>Rank by Total</th>\n",
       "      <th>2020 [YR2020]</th>\n",
       "    </tr>\n",
       "    <tr>\n",
       "      <th>NOC</th>\n",
       "      <th></th>\n",
       "      <th></th>\n",
       "      <th></th>\n",
       "      <th></th>\n",
       "      <th></th>\n",
       "      <th></th>\n",
       "      <th></th>\n",
       "      <th></th>\n",
       "    </tr>\n",
       "  </thead>\n",
       "  <tbody>\n",
       "    <tr>\n",
       "      <th>Afghanistan</th>\n",
       "      <td>5</td>\n",
       "      <td>NaN</td>\n",
       "      <td>NaN</td>\n",
       "      <td>NaN</td>\n",
       "      <td>NaN</td>\n",
       "      <td>NaN</td>\n",
       "      <td>NaN</td>\n",
       "      <td>509.0</td>\n",
       "    </tr>\n",
       "    <tr>\n",
       "      <th>Albania</th>\n",
       "      <td>8</td>\n",
       "      <td>NaN</td>\n",
       "      <td>NaN</td>\n",
       "      <td>NaN</td>\n",
       "      <td>NaN</td>\n",
       "      <td>NaN</td>\n",
       "      <td>NaN</td>\n",
       "      <td>5215.0</td>\n",
       "    </tr>\n",
       "    <tr>\n",
       "      <th>Algeria</th>\n",
       "      <td>41</td>\n",
       "      <td>NaN</td>\n",
       "      <td>NaN</td>\n",
       "      <td>NaN</td>\n",
       "      <td>NaN</td>\n",
       "      <td>NaN</td>\n",
       "      <td>NaN</td>\n",
       "      <td>3310.0</td>\n",
       "    </tr>\n",
       "    <tr>\n",
       "      <th>American Samoa</th>\n",
       "      <td>5</td>\n",
       "      <td>NaN</td>\n",
       "      <td>NaN</td>\n",
       "      <td>NaN</td>\n",
       "      <td>NaN</td>\n",
       "      <td>NaN</td>\n",
       "      <td>NaN</td>\n",
       "      <td>NaN</td>\n",
       "    </tr>\n",
       "    <tr>\n",
       "      <th>Andorra</th>\n",
       "      <td>2</td>\n",
       "      <td>NaN</td>\n",
       "      <td>NaN</td>\n",
       "      <td>NaN</td>\n",
       "      <td>NaN</td>\n",
       "      <td>NaN</td>\n",
       "      <td>NaN</td>\n",
       "      <td>NaN</td>\n",
       "    </tr>\n",
       "  </tbody>\n",
       "</table>\n",
       "</div>"
      ],
      "text/plain": [
       "                Athlete Count  Rank  Gold  Silver  Bronze  Total  \\\n",
       "NOC                                                                \n",
       "Afghanistan                 5   NaN   NaN     NaN     NaN    NaN   \n",
       "Albania                     8   NaN   NaN     NaN     NaN    NaN   \n",
       "Algeria                    41   NaN   NaN     NaN     NaN    NaN   \n",
       "American Samoa              5   NaN   NaN     NaN     NaN    NaN   \n",
       "Andorra                     2   NaN   NaN     NaN     NaN    NaN   \n",
       "\n",
       "                Rank by Total  2020 [YR2020]  \n",
       "NOC                                           \n",
       "Afghanistan               NaN          509.0  \n",
       "Albania                   NaN         5215.0  \n",
       "Algeria                   NaN         3310.0  \n",
       "American Samoa            NaN            NaN  \n",
       "Andorra                   NaN            NaN  "
      ]
     },
     "execution_count": 197,
     "metadata": {},
     "output_type": "execute_result"
    }
   ],
   "source": [
    "tokyo_olympics_medal_gdp.head()"
   ]
  },
  {
   "cell_type": "markdown",
   "id": "9fae19bf",
   "metadata": {},
   "source": [
    "**There are null values but since we are only going to check the values the top 30 total medal \n",
    "countries, we will leave them as is.**"
   ]
  },
  {
   "cell_type": "markdown",
   "id": "e37f2fcb",
   "metadata": {},
   "source": [
    "**Below, filter 'tokyo_olympics_medal_gdp' dataframe to show only top 30 total medal winning countries with sort_values()**"
   ]
  },
  {
   "cell_type": "code",
   "execution_count": 198,
   "id": "9ab45c77",
   "metadata": {},
   "outputs": [
    {
     "data": {
      "text/html": [
       "<div>\n",
       "<style scoped>\n",
       "    .dataframe tbody tr th:only-of-type {\n",
       "        vertical-align: middle;\n",
       "    }\n",
       "\n",
       "    .dataframe tbody tr th {\n",
       "        vertical-align: top;\n",
       "    }\n",
       "\n",
       "    .dataframe thead th {\n",
       "        text-align: right;\n",
       "    }\n",
       "</style>\n",
       "<table border=\"1\" class=\"dataframe\">\n",
       "  <thead>\n",
       "    <tr style=\"text-align: right;\">\n",
       "      <th></th>\n",
       "      <th>Athlete Count</th>\n",
       "      <th>Rank</th>\n",
       "      <th>Gold</th>\n",
       "      <th>Silver</th>\n",
       "      <th>Bronze</th>\n",
       "      <th>Total</th>\n",
       "      <th>Rank by Total</th>\n",
       "      <th>2020 [YR2020]</th>\n",
       "    </tr>\n",
       "    <tr>\n",
       "      <th>NOC</th>\n",
       "      <th></th>\n",
       "      <th></th>\n",
       "      <th></th>\n",
       "      <th></th>\n",
       "      <th></th>\n",
       "      <th></th>\n",
       "      <th></th>\n",
       "      <th></th>\n",
       "    </tr>\n",
       "  </thead>\n",
       "  <tbody>\n",
       "    <tr>\n",
       "      <th>United States of America</th>\n",
       "      <td>613</td>\n",
       "      <td>1.0</td>\n",
       "      <td>39.0</td>\n",
       "      <td>41.0</td>\n",
       "      <td>33.0</td>\n",
       "      <td>113.0</td>\n",
       "      <td>1.0</td>\n",
       "      <td>63544.0</td>\n",
       "    </tr>\n",
       "    <tr>\n",
       "      <th>People's Republic of China</th>\n",
       "      <td>398</td>\n",
       "      <td>2.0</td>\n",
       "      <td>38.0</td>\n",
       "      <td>32.0</td>\n",
       "      <td>18.0</td>\n",
       "      <td>88.0</td>\n",
       "      <td>2.0</td>\n",
       "      <td>10500.0</td>\n",
       "    </tr>\n",
       "    <tr>\n",
       "      <th>ROC</th>\n",
       "      <td>318</td>\n",
       "      <td>5.0</td>\n",
       "      <td>20.0</td>\n",
       "      <td>28.0</td>\n",
       "      <td>23.0</td>\n",
       "      <td>71.0</td>\n",
       "      <td>3.0</td>\n",
       "      <td>10127.0</td>\n",
       "    </tr>\n",
       "    <tr>\n",
       "      <th>Great Britain</th>\n",
       "      <td>366</td>\n",
       "      <td>4.0</td>\n",
       "      <td>22.0</td>\n",
       "      <td>21.0</td>\n",
       "      <td>22.0</td>\n",
       "      <td>65.0</td>\n",
       "      <td>4.0</td>\n",
       "      <td>40285.0</td>\n",
       "    </tr>\n",
       "    <tr>\n",
       "      <th>Japan</th>\n",
       "      <td>585</td>\n",
       "      <td>3.0</td>\n",
       "      <td>27.0</td>\n",
       "      <td>14.0</td>\n",
       "      <td>17.0</td>\n",
       "      <td>58.0</td>\n",
       "      <td>5.0</td>\n",
       "      <td>NaN</td>\n",
       "    </tr>\n",
       "    <tr>\n",
       "      <th>Australia</th>\n",
       "      <td>470</td>\n",
       "      <td>6.0</td>\n",
       "      <td>17.0</td>\n",
       "      <td>7.0</td>\n",
       "      <td>22.0</td>\n",
       "      <td>46.0</td>\n",
       "      <td>6.0</td>\n",
       "      <td>51812.0</td>\n",
       "    </tr>\n",
       "    <tr>\n",
       "      <th>Italy</th>\n",
       "      <td>354</td>\n",
       "      <td>10.0</td>\n",
       "      <td>10.0</td>\n",
       "      <td>10.0</td>\n",
       "      <td>20.0</td>\n",
       "      <td>40.0</td>\n",
       "      <td>7.0</td>\n",
       "      <td>31676.0</td>\n",
       "    </tr>\n",
       "    <tr>\n",
       "      <th>Germany</th>\n",
       "      <td>399</td>\n",
       "      <td>9.0</td>\n",
       "      <td>10.0</td>\n",
       "      <td>11.0</td>\n",
       "      <td>16.0</td>\n",
       "      <td>37.0</td>\n",
       "      <td>8.0</td>\n",
       "      <td>45724.0</td>\n",
       "    </tr>\n",
       "    <tr>\n",
       "      <th>Netherlands</th>\n",
       "      <td>272</td>\n",
       "      <td>7.0</td>\n",
       "      <td>10.0</td>\n",
       "      <td>12.0</td>\n",
       "      <td>14.0</td>\n",
       "      <td>36.0</td>\n",
       "      <td>9.0</td>\n",
       "      <td>52304.0</td>\n",
       "    </tr>\n",
       "    <tr>\n",
       "      <th>France</th>\n",
       "      <td>377</td>\n",
       "      <td>8.0</td>\n",
       "      <td>10.0</td>\n",
       "      <td>12.0</td>\n",
       "      <td>11.0</td>\n",
       "      <td>33.0</td>\n",
       "      <td>10.0</td>\n",
       "      <td>38625.0</td>\n",
       "    </tr>\n",
       "    <tr>\n",
       "      <th>Canada</th>\n",
       "      <td>368</td>\n",
       "      <td>11.0</td>\n",
       "      <td>7.0</td>\n",
       "      <td>6.0</td>\n",
       "      <td>11.0</td>\n",
       "      <td>24.0</td>\n",
       "      <td>11.0</td>\n",
       "      <td>43242.0</td>\n",
       "    </tr>\n",
       "    <tr>\n",
       "      <th>Brazil</th>\n",
       "      <td>291</td>\n",
       "      <td>12.0</td>\n",
       "      <td>7.0</td>\n",
       "      <td>6.0</td>\n",
       "      <td>8.0</td>\n",
       "      <td>21.0</td>\n",
       "      <td>12.0</td>\n",
       "      <td>6797.0</td>\n",
       "    </tr>\n",
       "    <tr>\n",
       "      <th>Hungary</th>\n",
       "      <td>154</td>\n",
       "      <td>15.0</td>\n",
       "      <td>6.0</td>\n",
       "      <td>7.0</td>\n",
       "      <td>7.0</td>\n",
       "      <td>20.0</td>\n",
       "      <td>13.0</td>\n",
       "      <td>15899.0</td>\n",
       "    </tr>\n",
       "    <tr>\n",
       "      <th>New Zealand</th>\n",
       "      <td>202</td>\n",
       "      <td>13.0</td>\n",
       "      <td>7.0</td>\n",
       "      <td>6.0</td>\n",
       "      <td>7.0</td>\n",
       "      <td>20.0</td>\n",
       "      <td>13.0</td>\n",
       "      <td>41792.0</td>\n",
       "    </tr>\n",
       "    <tr>\n",
       "      <th>Republic of Korea</th>\n",
       "      <td>222</td>\n",
       "      <td>16.0</td>\n",
       "      <td>6.0</td>\n",
       "      <td>4.0</td>\n",
       "      <td>10.0</td>\n",
       "      <td>20.0</td>\n",
       "      <td>13.0</td>\n",
       "      <td>31489.0</td>\n",
       "    </tr>\n",
       "    <tr>\n",
       "      <th>Ukraine</th>\n",
       "      <td>152</td>\n",
       "      <td>44.0</td>\n",
       "      <td>1.0</td>\n",
       "      <td>6.0</td>\n",
       "      <td>12.0</td>\n",
       "      <td>19.0</td>\n",
       "      <td>16.0</td>\n",
       "      <td>3727.0</td>\n",
       "    </tr>\n",
       "    <tr>\n",
       "      <th>Spain</th>\n",
       "      <td>322</td>\n",
       "      <td>22.0</td>\n",
       "      <td>3.0</td>\n",
       "      <td>8.0</td>\n",
       "      <td>6.0</td>\n",
       "      <td>17.0</td>\n",
       "      <td>17.0</td>\n",
       "      <td>27057.0</td>\n",
       "    </tr>\n",
       "    <tr>\n",
       "      <th>Cuba</th>\n",
       "      <td>69</td>\n",
       "      <td>14.0</td>\n",
       "      <td>7.0</td>\n",
       "      <td>3.0</td>\n",
       "      <td>5.0</td>\n",
       "      <td>15.0</td>\n",
       "      <td>18.0</td>\n",
       "      <td>NaN</td>\n",
       "    </tr>\n",
       "    <tr>\n",
       "      <th>Poland</th>\n",
       "      <td>194</td>\n",
       "      <td>17.0</td>\n",
       "      <td>4.0</td>\n",
       "      <td>5.0</td>\n",
       "      <td>5.0</td>\n",
       "      <td>14.0</td>\n",
       "      <td>19.0</td>\n",
       "      <td>15656.0</td>\n",
       "    </tr>\n",
       "    <tr>\n",
       "      <th>Switzerland</th>\n",
       "      <td>115</td>\n",
       "      <td>24.0</td>\n",
       "      <td>3.0</td>\n",
       "      <td>4.0</td>\n",
       "      <td>6.0</td>\n",
       "      <td>13.0</td>\n",
       "      <td>20.0</td>\n",
       "      <td>86602.0</td>\n",
       "    </tr>\n",
       "    <tr>\n",
       "      <th>Turkey</th>\n",
       "      <td>102</td>\n",
       "      <td>35.0</td>\n",
       "      <td>2.0</td>\n",
       "      <td>2.0</td>\n",
       "      <td>9.0</td>\n",
       "      <td>13.0</td>\n",
       "      <td>20.0</td>\n",
       "      <td>8538.0</td>\n",
       "    </tr>\n",
       "    <tr>\n",
       "      <th>Chinese Taipei</th>\n",
       "      <td>67</td>\n",
       "      <td>34.0</td>\n",
       "      <td>2.0</td>\n",
       "      <td>4.0</td>\n",
       "      <td>6.0</td>\n",
       "      <td>12.0</td>\n",
       "      <td>22.0</td>\n",
       "      <td>NaN</td>\n",
       "    </tr>\n",
       "    <tr>\n",
       "      <th>Czech Republic</th>\n",
       "      <td>117</td>\n",
       "      <td>18.0</td>\n",
       "      <td>4.0</td>\n",
       "      <td>4.0</td>\n",
       "      <td>3.0</td>\n",
       "      <td>11.0</td>\n",
       "      <td>23.0</td>\n",
       "      <td>22762.0</td>\n",
       "    </tr>\n",
       "    <tr>\n",
       "      <th>Denmark</th>\n",
       "      <td>103</td>\n",
       "      <td>25.0</td>\n",
       "      <td>3.0</td>\n",
       "      <td>4.0</td>\n",
       "      <td>4.0</td>\n",
       "      <td>11.0</td>\n",
       "      <td>23.0</td>\n",
       "      <td>60909.0</td>\n",
       "    </tr>\n",
       "    <tr>\n",
       "      <th>Kenya</th>\n",
       "      <td>78</td>\n",
       "      <td>19.0</td>\n",
       "      <td>4.0</td>\n",
       "      <td>4.0</td>\n",
       "      <td>2.0</td>\n",
       "      <td>10.0</td>\n",
       "      <td>25.0</td>\n",
       "      <td>1838.0</td>\n",
       "    </tr>\n",
       "    <tr>\n",
       "      <th>Jamaica</th>\n",
       "      <td>60</td>\n",
       "      <td>21.0</td>\n",
       "      <td>4.0</td>\n",
       "      <td>1.0</td>\n",
       "      <td>4.0</td>\n",
       "      <td>9.0</td>\n",
       "      <td>26.0</td>\n",
       "      <td>4665.0</td>\n",
       "    </tr>\n",
       "    <tr>\n",
       "      <th>Serbia</th>\n",
       "      <td>83</td>\n",
       "      <td>28.0</td>\n",
       "      <td>3.0</td>\n",
       "      <td>1.0</td>\n",
       "      <td>5.0</td>\n",
       "      <td>9.0</td>\n",
       "      <td>26.0</td>\n",
       "      <td>7666.0</td>\n",
       "    </tr>\n",
       "    <tr>\n",
       "      <th>Sweden</th>\n",
       "      <td>129</td>\n",
       "      <td>23.0</td>\n",
       "      <td>3.0</td>\n",
       "      <td>6.0</td>\n",
       "      <td>0.0</td>\n",
       "      <td>9.0</td>\n",
       "      <td>26.0</td>\n",
       "      <td>51926.0</td>\n",
       "    </tr>\n",
       "    <tr>\n",
       "      <th>Kazakhstan</th>\n",
       "      <td>92</td>\n",
       "      <td>83.0</td>\n",
       "      <td>0.0</td>\n",
       "      <td>0.0</td>\n",
       "      <td>8.0</td>\n",
       "      <td>8.0</td>\n",
       "      <td>29.0</td>\n",
       "      <td>9056.0</td>\n",
       "    </tr>\n",
       "    <tr>\n",
       "      <th>Georgia</th>\n",
       "      <td>35</td>\n",
       "      <td>33.0</td>\n",
       "      <td>2.0</td>\n",
       "      <td>5.0</td>\n",
       "      <td>1.0</td>\n",
       "      <td>8.0</td>\n",
       "      <td>29.0</td>\n",
       "      <td>4279.0</td>\n",
       "    </tr>\n",
       "  </tbody>\n",
       "</table>\n",
       "</div>"
      ],
      "text/plain": [
       "                            Athlete Count  Rank  Gold  Silver  Bronze  Total  \\\n",
       "NOC                                                                            \n",
       "United States of America              613   1.0  39.0    41.0    33.0  113.0   \n",
       "People's Republic of China            398   2.0  38.0    32.0    18.0   88.0   \n",
       "ROC                                   318   5.0  20.0    28.0    23.0   71.0   \n",
       "Great Britain                         366   4.0  22.0    21.0    22.0   65.0   \n",
       "Japan                                 585   3.0  27.0    14.0    17.0   58.0   \n",
       "Australia                             470   6.0  17.0     7.0    22.0   46.0   \n",
       "Italy                                 354  10.0  10.0    10.0    20.0   40.0   \n",
       "Germany                               399   9.0  10.0    11.0    16.0   37.0   \n",
       "Netherlands                           272   7.0  10.0    12.0    14.0   36.0   \n",
       "France                                377   8.0  10.0    12.0    11.0   33.0   \n",
       "Canada                                368  11.0   7.0     6.0    11.0   24.0   \n",
       "Brazil                                291  12.0   7.0     6.0     8.0   21.0   \n",
       "Hungary                               154  15.0   6.0     7.0     7.0   20.0   \n",
       "New Zealand                           202  13.0   7.0     6.0     7.0   20.0   \n",
       "Republic of Korea                     222  16.0   6.0     4.0    10.0   20.0   \n",
       "Ukraine                               152  44.0   1.0     6.0    12.0   19.0   \n",
       "Spain                                 322  22.0   3.0     8.0     6.0   17.0   \n",
       "Cuba                                   69  14.0   7.0     3.0     5.0   15.0   \n",
       "Poland                                194  17.0   4.0     5.0     5.0   14.0   \n",
       "Switzerland                           115  24.0   3.0     4.0     6.0   13.0   \n",
       "Turkey                                102  35.0   2.0     2.0     9.0   13.0   \n",
       "Chinese Taipei                         67  34.0   2.0     4.0     6.0   12.0   \n",
       "Czech Republic                        117  18.0   4.0     4.0     3.0   11.0   \n",
       "Denmark                               103  25.0   3.0     4.0     4.0   11.0   \n",
       "Kenya                                  78  19.0   4.0     4.0     2.0   10.0   \n",
       "Jamaica                                60  21.0   4.0     1.0     4.0    9.0   \n",
       "Serbia                                 83  28.0   3.0     1.0     5.0    9.0   \n",
       "Sweden                                129  23.0   3.0     6.0     0.0    9.0   \n",
       "Kazakhstan                             92  83.0   0.0     0.0     8.0    8.0   \n",
       "Georgia                                35  33.0   2.0     5.0     1.0    8.0   \n",
       "\n",
       "                            Rank by Total  2020 [YR2020]  \n",
       "NOC                                                       \n",
       "United States of America              1.0        63544.0  \n",
       "People's Republic of China            2.0        10500.0  \n",
       "ROC                                   3.0        10127.0  \n",
       "Great Britain                         4.0        40285.0  \n",
       "Japan                                 5.0            NaN  \n",
       "Australia                             6.0        51812.0  \n",
       "Italy                                 7.0        31676.0  \n",
       "Germany                               8.0        45724.0  \n",
       "Netherlands                           9.0        52304.0  \n",
       "France                               10.0        38625.0  \n",
       "Canada                               11.0        43242.0  \n",
       "Brazil                               12.0         6797.0  \n",
       "Hungary                              13.0        15899.0  \n",
       "New Zealand                          13.0        41792.0  \n",
       "Republic of Korea                    13.0        31489.0  \n",
       "Ukraine                              16.0         3727.0  \n",
       "Spain                                17.0        27057.0  \n",
       "Cuba                                 18.0            NaN  \n",
       "Poland                               19.0        15656.0  \n",
       "Switzerland                          20.0        86602.0  \n",
       "Turkey                               20.0         8538.0  \n",
       "Chinese Taipei                       22.0            NaN  \n",
       "Czech Republic                       23.0        22762.0  \n",
       "Denmark                              23.0        60909.0  \n",
       "Kenya                                25.0         1838.0  \n",
       "Jamaica                              26.0         4665.0  \n",
       "Serbia                               26.0         7666.0  \n",
       "Sweden                               26.0        51926.0  \n",
       "Kazakhstan                           29.0         9056.0  \n",
       "Georgia                              29.0         4279.0  "
      ]
     },
     "execution_count": 198,
     "metadata": {},
     "output_type": "execute_result"
    }
   ],
   "source": [
    "tokyo_olympics_medal_gdp.sort_values(by='Total',ascending=False).head(30)"
   ]
  },
  {
   "cell_type": "markdown",
   "id": "c464553a",
   "metadata": {},
   "source": [
    "**In the filtered dataframe above, one can see 'Kazakhstan' and 'Norway' both have\n",
    "8 total medals.**\n",
    "\n",
    "**In case there were other countries with 8 total medals, we will revise\n",
    "the filter to include all countries which won 8 total medals or more below.**"
   ]
  },
  {
   "cell_type": "code",
   "execution_count": 199,
   "id": "aed02f70",
   "metadata": {},
   "outputs": [
    {
     "data": {
      "text/html": [
       "<div>\n",
       "<style scoped>\n",
       "    .dataframe tbody tr th:only-of-type {\n",
       "        vertical-align: middle;\n",
       "    }\n",
       "\n",
       "    .dataframe tbody tr th {\n",
       "        vertical-align: top;\n",
       "    }\n",
       "\n",
       "    .dataframe thead th {\n",
       "        text-align: right;\n",
       "    }\n",
       "</style>\n",
       "<table border=\"1\" class=\"dataframe\">\n",
       "  <thead>\n",
       "    <tr style=\"text-align: right;\">\n",
       "      <th></th>\n",
       "      <th>Athlete Count</th>\n",
       "      <th>Rank</th>\n",
       "      <th>Gold</th>\n",
       "      <th>Silver</th>\n",
       "      <th>Bronze</th>\n",
       "      <th>Total</th>\n",
       "      <th>Rank by Total</th>\n",
       "      <th>2020 [YR2020]</th>\n",
       "    </tr>\n",
       "    <tr>\n",
       "      <th>NOC</th>\n",
       "      <th></th>\n",
       "      <th></th>\n",
       "      <th></th>\n",
       "      <th></th>\n",
       "      <th></th>\n",
       "      <th></th>\n",
       "      <th></th>\n",
       "      <th></th>\n",
       "    </tr>\n",
       "  </thead>\n",
       "  <tbody>\n",
       "    <tr>\n",
       "      <th>Australia</th>\n",
       "      <td>470</td>\n",
       "      <td>6.0</td>\n",
       "      <td>17.0</td>\n",
       "      <td>7.0</td>\n",
       "      <td>22.0</td>\n",
       "      <td>46.0</td>\n",
       "      <td>6.0</td>\n",
       "      <td>51812.0</td>\n",
       "    </tr>\n",
       "    <tr>\n",
       "      <th>Brazil</th>\n",
       "      <td>291</td>\n",
       "      <td>12.0</td>\n",
       "      <td>7.0</td>\n",
       "      <td>6.0</td>\n",
       "      <td>8.0</td>\n",
       "      <td>21.0</td>\n",
       "      <td>12.0</td>\n",
       "      <td>6797.0</td>\n",
       "    </tr>\n",
       "    <tr>\n",
       "      <th>Canada</th>\n",
       "      <td>368</td>\n",
       "      <td>11.0</td>\n",
       "      <td>7.0</td>\n",
       "      <td>6.0</td>\n",
       "      <td>11.0</td>\n",
       "      <td>24.0</td>\n",
       "      <td>11.0</td>\n",
       "      <td>43242.0</td>\n",
       "    </tr>\n",
       "    <tr>\n",
       "      <th>Chinese Taipei</th>\n",
       "      <td>67</td>\n",
       "      <td>34.0</td>\n",
       "      <td>2.0</td>\n",
       "      <td>4.0</td>\n",
       "      <td>6.0</td>\n",
       "      <td>12.0</td>\n",
       "      <td>22.0</td>\n",
       "      <td>NaN</td>\n",
       "    </tr>\n",
       "    <tr>\n",
       "      <th>Croatia</th>\n",
       "      <td>57</td>\n",
       "      <td>26.0</td>\n",
       "      <td>3.0</td>\n",
       "      <td>3.0</td>\n",
       "      <td>2.0</td>\n",
       "      <td>8.0</td>\n",
       "      <td>29.0</td>\n",
       "      <td>13828.0</td>\n",
       "    </tr>\n",
       "    <tr>\n",
       "      <th>Cuba</th>\n",
       "      <td>69</td>\n",
       "      <td>14.0</td>\n",
       "      <td>7.0</td>\n",
       "      <td>3.0</td>\n",
       "      <td>5.0</td>\n",
       "      <td>15.0</td>\n",
       "      <td>18.0</td>\n",
       "      <td>NaN</td>\n",
       "    </tr>\n",
       "    <tr>\n",
       "      <th>Czech Republic</th>\n",
       "      <td>117</td>\n",
       "      <td>18.0</td>\n",
       "      <td>4.0</td>\n",
       "      <td>4.0</td>\n",
       "      <td>3.0</td>\n",
       "      <td>11.0</td>\n",
       "      <td>23.0</td>\n",
       "      <td>22762.0</td>\n",
       "    </tr>\n",
       "    <tr>\n",
       "      <th>Denmark</th>\n",
       "      <td>103</td>\n",
       "      <td>25.0</td>\n",
       "      <td>3.0</td>\n",
       "      <td>4.0</td>\n",
       "      <td>4.0</td>\n",
       "      <td>11.0</td>\n",
       "      <td>23.0</td>\n",
       "      <td>60909.0</td>\n",
       "    </tr>\n",
       "    <tr>\n",
       "      <th>France</th>\n",
       "      <td>377</td>\n",
       "      <td>8.0</td>\n",
       "      <td>10.0</td>\n",
       "      <td>12.0</td>\n",
       "      <td>11.0</td>\n",
       "      <td>33.0</td>\n",
       "      <td>10.0</td>\n",
       "      <td>38625.0</td>\n",
       "    </tr>\n",
       "    <tr>\n",
       "      <th>Georgia</th>\n",
       "      <td>35</td>\n",
       "      <td>33.0</td>\n",
       "      <td>2.0</td>\n",
       "      <td>5.0</td>\n",
       "      <td>1.0</td>\n",
       "      <td>8.0</td>\n",
       "      <td>29.0</td>\n",
       "      <td>4279.0</td>\n",
       "    </tr>\n",
       "    <tr>\n",
       "      <th>Germany</th>\n",
       "      <td>399</td>\n",
       "      <td>9.0</td>\n",
       "      <td>10.0</td>\n",
       "      <td>11.0</td>\n",
       "      <td>16.0</td>\n",
       "      <td>37.0</td>\n",
       "      <td>8.0</td>\n",
       "      <td>45724.0</td>\n",
       "    </tr>\n",
       "    <tr>\n",
       "      <th>Great Britain</th>\n",
       "      <td>366</td>\n",
       "      <td>4.0</td>\n",
       "      <td>22.0</td>\n",
       "      <td>21.0</td>\n",
       "      <td>22.0</td>\n",
       "      <td>65.0</td>\n",
       "      <td>4.0</td>\n",
       "      <td>40285.0</td>\n",
       "    </tr>\n",
       "    <tr>\n",
       "      <th>Hungary</th>\n",
       "      <td>154</td>\n",
       "      <td>15.0</td>\n",
       "      <td>6.0</td>\n",
       "      <td>7.0</td>\n",
       "      <td>7.0</td>\n",
       "      <td>20.0</td>\n",
       "      <td>13.0</td>\n",
       "      <td>15899.0</td>\n",
       "    </tr>\n",
       "    <tr>\n",
       "      <th>Italy</th>\n",
       "      <td>354</td>\n",
       "      <td>10.0</td>\n",
       "      <td>10.0</td>\n",
       "      <td>10.0</td>\n",
       "      <td>20.0</td>\n",
       "      <td>40.0</td>\n",
       "      <td>7.0</td>\n",
       "      <td>31676.0</td>\n",
       "    </tr>\n",
       "    <tr>\n",
       "      <th>Jamaica</th>\n",
       "      <td>60</td>\n",
       "      <td>21.0</td>\n",
       "      <td>4.0</td>\n",
       "      <td>1.0</td>\n",
       "      <td>4.0</td>\n",
       "      <td>9.0</td>\n",
       "      <td>26.0</td>\n",
       "      <td>4665.0</td>\n",
       "    </tr>\n",
       "    <tr>\n",
       "      <th>Japan</th>\n",
       "      <td>585</td>\n",
       "      <td>3.0</td>\n",
       "      <td>27.0</td>\n",
       "      <td>14.0</td>\n",
       "      <td>17.0</td>\n",
       "      <td>58.0</td>\n",
       "      <td>5.0</td>\n",
       "      <td>NaN</td>\n",
       "    </tr>\n",
       "    <tr>\n",
       "      <th>Kazakhstan</th>\n",
       "      <td>92</td>\n",
       "      <td>83.0</td>\n",
       "      <td>0.0</td>\n",
       "      <td>0.0</td>\n",
       "      <td>8.0</td>\n",
       "      <td>8.0</td>\n",
       "      <td>29.0</td>\n",
       "      <td>9056.0</td>\n",
       "    </tr>\n",
       "    <tr>\n",
       "      <th>Kenya</th>\n",
       "      <td>78</td>\n",
       "      <td>19.0</td>\n",
       "      <td>4.0</td>\n",
       "      <td>4.0</td>\n",
       "      <td>2.0</td>\n",
       "      <td>10.0</td>\n",
       "      <td>25.0</td>\n",
       "      <td>1838.0</td>\n",
       "    </tr>\n",
       "    <tr>\n",
       "      <th>Netherlands</th>\n",
       "      <td>272</td>\n",
       "      <td>7.0</td>\n",
       "      <td>10.0</td>\n",
       "      <td>12.0</td>\n",
       "      <td>14.0</td>\n",
       "      <td>36.0</td>\n",
       "      <td>9.0</td>\n",
       "      <td>52304.0</td>\n",
       "    </tr>\n",
       "    <tr>\n",
       "      <th>New Zealand</th>\n",
       "      <td>202</td>\n",
       "      <td>13.0</td>\n",
       "      <td>7.0</td>\n",
       "      <td>6.0</td>\n",
       "      <td>7.0</td>\n",
       "      <td>20.0</td>\n",
       "      <td>13.0</td>\n",
       "      <td>41792.0</td>\n",
       "    </tr>\n",
       "    <tr>\n",
       "      <th>Norway</th>\n",
       "      <td>92</td>\n",
       "      <td>20.0</td>\n",
       "      <td>4.0</td>\n",
       "      <td>2.0</td>\n",
       "      <td>2.0</td>\n",
       "      <td>8.0</td>\n",
       "      <td>29.0</td>\n",
       "      <td>67294.0</td>\n",
       "    </tr>\n",
       "    <tr>\n",
       "      <th>People's Republic of China</th>\n",
       "      <td>398</td>\n",
       "      <td>2.0</td>\n",
       "      <td>38.0</td>\n",
       "      <td>32.0</td>\n",
       "      <td>18.0</td>\n",
       "      <td>88.0</td>\n",
       "      <td>2.0</td>\n",
       "      <td>10500.0</td>\n",
       "    </tr>\n",
       "    <tr>\n",
       "      <th>Poland</th>\n",
       "      <td>194</td>\n",
       "      <td>17.0</td>\n",
       "      <td>4.0</td>\n",
       "      <td>5.0</td>\n",
       "      <td>5.0</td>\n",
       "      <td>14.0</td>\n",
       "      <td>19.0</td>\n",
       "      <td>15656.0</td>\n",
       "    </tr>\n",
       "    <tr>\n",
       "      <th>ROC</th>\n",
       "      <td>318</td>\n",
       "      <td>5.0</td>\n",
       "      <td>20.0</td>\n",
       "      <td>28.0</td>\n",
       "      <td>23.0</td>\n",
       "      <td>71.0</td>\n",
       "      <td>3.0</td>\n",
       "      <td>10127.0</td>\n",
       "    </tr>\n",
       "    <tr>\n",
       "      <th>Republic of Korea</th>\n",
       "      <td>222</td>\n",
       "      <td>16.0</td>\n",
       "      <td>6.0</td>\n",
       "      <td>4.0</td>\n",
       "      <td>10.0</td>\n",
       "      <td>20.0</td>\n",
       "      <td>13.0</td>\n",
       "      <td>31489.0</td>\n",
       "    </tr>\n",
       "    <tr>\n",
       "      <th>Serbia</th>\n",
       "      <td>83</td>\n",
       "      <td>28.0</td>\n",
       "      <td>3.0</td>\n",
       "      <td>1.0</td>\n",
       "      <td>5.0</td>\n",
       "      <td>9.0</td>\n",
       "      <td>26.0</td>\n",
       "      <td>7666.0</td>\n",
       "    </tr>\n",
       "    <tr>\n",
       "      <th>Spain</th>\n",
       "      <td>322</td>\n",
       "      <td>22.0</td>\n",
       "      <td>3.0</td>\n",
       "      <td>8.0</td>\n",
       "      <td>6.0</td>\n",
       "      <td>17.0</td>\n",
       "      <td>17.0</td>\n",
       "      <td>27057.0</td>\n",
       "    </tr>\n",
       "    <tr>\n",
       "      <th>Sweden</th>\n",
       "      <td>129</td>\n",
       "      <td>23.0</td>\n",
       "      <td>3.0</td>\n",
       "      <td>6.0</td>\n",
       "      <td>0.0</td>\n",
       "      <td>9.0</td>\n",
       "      <td>26.0</td>\n",
       "      <td>51926.0</td>\n",
       "    </tr>\n",
       "    <tr>\n",
       "      <th>Switzerland</th>\n",
       "      <td>115</td>\n",
       "      <td>24.0</td>\n",
       "      <td>3.0</td>\n",
       "      <td>4.0</td>\n",
       "      <td>6.0</td>\n",
       "      <td>13.0</td>\n",
       "      <td>20.0</td>\n",
       "      <td>86602.0</td>\n",
       "    </tr>\n",
       "    <tr>\n",
       "      <th>Turkey</th>\n",
       "      <td>102</td>\n",
       "      <td>35.0</td>\n",
       "      <td>2.0</td>\n",
       "      <td>2.0</td>\n",
       "      <td>9.0</td>\n",
       "      <td>13.0</td>\n",
       "      <td>20.0</td>\n",
       "      <td>8538.0</td>\n",
       "    </tr>\n",
       "    <tr>\n",
       "      <th>Ukraine</th>\n",
       "      <td>152</td>\n",
       "      <td>44.0</td>\n",
       "      <td>1.0</td>\n",
       "      <td>6.0</td>\n",
       "      <td>12.0</td>\n",
       "      <td>19.0</td>\n",
       "      <td>16.0</td>\n",
       "      <td>3727.0</td>\n",
       "    </tr>\n",
       "    <tr>\n",
       "      <th>United States of America</th>\n",
       "      <td>613</td>\n",
       "      <td>1.0</td>\n",
       "      <td>39.0</td>\n",
       "      <td>41.0</td>\n",
       "      <td>33.0</td>\n",
       "      <td>113.0</td>\n",
       "      <td>1.0</td>\n",
       "      <td>63544.0</td>\n",
       "    </tr>\n",
       "  </tbody>\n",
       "</table>\n",
       "</div>"
      ],
      "text/plain": [
       "                            Athlete Count  Rank  Gold  Silver  Bronze  Total  \\\n",
       "NOC                                                                            \n",
       "Australia                             470   6.0  17.0     7.0    22.0   46.0   \n",
       "Brazil                                291  12.0   7.0     6.0     8.0   21.0   \n",
       "Canada                                368  11.0   7.0     6.0    11.0   24.0   \n",
       "Chinese Taipei                         67  34.0   2.0     4.0     6.0   12.0   \n",
       "Croatia                                57  26.0   3.0     3.0     2.0    8.0   \n",
       "Cuba                                   69  14.0   7.0     3.0     5.0   15.0   \n",
       "Czech Republic                        117  18.0   4.0     4.0     3.0   11.0   \n",
       "Denmark                               103  25.0   3.0     4.0     4.0   11.0   \n",
       "France                                377   8.0  10.0    12.0    11.0   33.0   \n",
       "Georgia                                35  33.0   2.0     5.0     1.0    8.0   \n",
       "Germany                               399   9.0  10.0    11.0    16.0   37.0   \n",
       "Great Britain                         366   4.0  22.0    21.0    22.0   65.0   \n",
       "Hungary                               154  15.0   6.0     7.0     7.0   20.0   \n",
       "Italy                                 354  10.0  10.0    10.0    20.0   40.0   \n",
       "Jamaica                                60  21.0   4.0     1.0     4.0    9.0   \n",
       "Japan                                 585   3.0  27.0    14.0    17.0   58.0   \n",
       "Kazakhstan                             92  83.0   0.0     0.0     8.0    8.0   \n",
       "Kenya                                  78  19.0   4.0     4.0     2.0   10.0   \n",
       "Netherlands                           272   7.0  10.0    12.0    14.0   36.0   \n",
       "New Zealand                           202  13.0   7.0     6.0     7.0   20.0   \n",
       "Norway                                 92  20.0   4.0     2.0     2.0    8.0   \n",
       "People's Republic of China            398   2.0  38.0    32.0    18.0   88.0   \n",
       "Poland                                194  17.0   4.0     5.0     5.0   14.0   \n",
       "ROC                                   318   5.0  20.0    28.0    23.0   71.0   \n",
       "Republic of Korea                     222  16.0   6.0     4.0    10.0   20.0   \n",
       "Serbia                                 83  28.0   3.0     1.0     5.0    9.0   \n",
       "Spain                                 322  22.0   3.0     8.0     6.0   17.0   \n",
       "Sweden                                129  23.0   3.0     6.0     0.0    9.0   \n",
       "Switzerland                           115  24.0   3.0     4.0     6.0   13.0   \n",
       "Turkey                                102  35.0   2.0     2.0     9.0   13.0   \n",
       "Ukraine                               152  44.0   1.0     6.0    12.0   19.0   \n",
       "United States of America              613   1.0  39.0    41.0    33.0  113.0   \n",
       "\n",
       "                            Rank by Total  2020 [YR2020]  \n",
       "NOC                                                       \n",
       "Australia                             6.0        51812.0  \n",
       "Brazil                               12.0         6797.0  \n",
       "Canada                               11.0        43242.0  \n",
       "Chinese Taipei                       22.0            NaN  \n",
       "Croatia                              29.0        13828.0  \n",
       "Cuba                                 18.0            NaN  \n",
       "Czech Republic                       23.0        22762.0  \n",
       "Denmark                              23.0        60909.0  \n",
       "France                               10.0        38625.0  \n",
       "Georgia                              29.0         4279.0  \n",
       "Germany                               8.0        45724.0  \n",
       "Great Britain                         4.0        40285.0  \n",
       "Hungary                              13.0        15899.0  \n",
       "Italy                                 7.0        31676.0  \n",
       "Jamaica                              26.0         4665.0  \n",
       "Japan                                 5.0            NaN  \n",
       "Kazakhstan                           29.0         9056.0  \n",
       "Kenya                                25.0         1838.0  \n",
       "Netherlands                           9.0        52304.0  \n",
       "New Zealand                          13.0        41792.0  \n",
       "Norway                               29.0        67294.0  \n",
       "People's Republic of China            2.0        10500.0  \n",
       "Poland                               19.0        15656.0  \n",
       "ROC                                   3.0        10127.0  \n",
       "Republic of Korea                    13.0        31489.0  \n",
       "Serbia                               26.0         7666.0  \n",
       "Spain                                17.0        27057.0  \n",
       "Sweden                               26.0        51926.0  \n",
       "Switzerland                          20.0        86602.0  \n",
       "Turkey                               20.0         8538.0  \n",
       "Ukraine                              16.0         3727.0  \n",
       "United States of America              1.0        63544.0  "
      ]
     },
     "execution_count": 199,
     "metadata": {},
     "output_type": "execute_result"
    }
   ],
   "source": [
    "tokyo_olympics_medal_gdp[tokyo_olympics_medal_gdp['Total']>=8]"
   ]
  },
  {
   "cell_type": "markdown",
   "id": "cd45ac4c",
   "metadata": {},
   "source": [
    "**In the dataframe above, there are null values for index 'Japan','Chinese Taipei','Cuba' on column '2020 [YR2020]'(which represents GDP per capita in 2020).**\n",
    "\n",
    "\n",
    "**Below, for index 'Japan', fill in the null values with Japan's 2019 GDP per capita data from the 'gdp_pcapita' dataframe.**\n",
    "\n",
    "\n",
    "**For index 'Chinese Taipei' and 'Cuba' fill in the null values with information found in the CIA World Factbook page as there were no entries for them in the 'gdp_pcapita' dataframe. Note that 'Chinese Taipei' referenced as 'Taiwan' in the CIA World Factbook.**\n",
    "\n",
    "https://www.cia.gov/the-world-factbook/field/real-gdp-per-capita/country-comparison \n",
    "\n",
    "**Use fillna() function.**"
   ]
  },
  {
   "cell_type": "code",
   "execution_count": 200,
   "id": "f71bbc00",
   "metadata": {},
   "outputs": [],
   "source": [
    "gdp_values={\"Chinese Taipei\":24502,\"Cuba\":12300,\"Japan\":40113}\n",
    "tokyo_olympics_medal_gdp[\"2020 [YR2020]\"].fillna(value=gdp_values,axis=0,inplace=True)"
   ]
  },
  {
   "cell_type": "markdown",
   "id": "7ab9591b",
   "metadata": {},
   "source": [
    "**Below, make regression plot showing the relation between GDP Per Capita in 2020 and Total Medals won in Tokyo 2021.**"
   ]
  },
  {
   "cell_type": "code",
   "execution_count": 201,
   "id": "82bb1a4b",
   "metadata": {
    "scrolled": true
   },
   "outputs": [
    {
     "data": {
      "text/plain": [
       "<matplotlib.legend.Legend at 0x12d4d9a90>"
      ]
     },
     "execution_count": 201,
     "metadata": {},
     "output_type": "execute_result"
    },
    {
     "data": {
      "image/png": "[encoded data removed]",
      "text/plain": [
       "<Figure size 432x288 with 1 Axes>"
      ]
     },
     "metadata": {
      "needs_background": "light"
     },
     "output_type": "display_data"
    }
   ],
   "source": [
    "from scipy.stats import pearsonr\n",
    "plt.figure(figsize=(6,4))\n",
    "r, pvalue = pearsonr(tokyo_olympics_medal_gdp[tokyo_olympics_medal_gdp['Total']>=8][\"2020 [YR2020]\"], tokyo_olympics_medal_gdp[tokyo_olympics_medal_gdp['Total']>=8][\"Total\"])\n",
    "ax6=sns.regplot(data=tokyo_olympics_medal_gdp[tokyo_olympics_medal_gdp['Total']>=8], x=\"2020 [YR2020]\", y=\"Total\", label=f'pearsonr = {r:.2f}')\n",
    "ax6.set(title='Correlation Between GDP Per Capita and Total Medals Won',xlabel='GDP Per Capita 2020', ylabel='Total Medals Won')\n",
    "plt.legend()"
   ]
  },
  {
   "cell_type": "markdown",
   "id": "b05cf0d4",
   "metadata": {},
   "source": [
    "* **The plot above shows a very low correlation between GDP Per Capita and Total Medals Won.**\n",
    "* **Pearson R = 0.21**\n",
    "\n",
    "**Below make regression plot showing the relation between GDP Per Capita in 2020 and Athlete Count in Tokyo 2021.**"
   ]
  },
  {
   "cell_type": "code",
   "execution_count": 202,
   "id": "a1e4404e",
   "metadata": {},
   "outputs": [
    {
     "data": {
      "text/plain": [
       "<matplotlib.legend.Legend at 0x12d647eb0>"
      ]
     },
     "execution_count": 202,
     "metadata": {},
     "output_type": "execute_result"
    },
    {
     "data": {
      "image/png": "[encoded data removed]",
      "text/plain": [
       "<Figure size 576x432 with 1 Axes>"
      ]
     },
     "metadata": {
      "needs_background": "light"
     },
     "output_type": "display_data"
    }
   ],
   "source": [
    "from scipy.stats import pearsonr\n",
    "r, pvalue = pearsonr(tokyo_olympics_medal_gdp[tokyo_olympics_medal_gdp['Total']>=8][\"2020 [YR2020]\"], tokyo_olympics_medal_gdp[tokyo_olympics_medal_gdp['Total']>=8][\"Athlete Count\"])\n",
    "plt.figure(figsize=(8,6))\n",
    "ax7 = sns.regplot(data=tokyo_olympics_medal_gdp[tokyo_olympics_medal_gdp['Total']>=8], x=\"2020 [YR2020]\", y=\"Athlete Count\", label=f'pearsonr = {r:.2f}')\n",
    "ax7.set(title='Correlation Between GDP Per Capita and Athlete Count', xlabel= 'GDP Per Capita 2020')\n",
    "plt.legend()"
   ]
  },
  {
   "cell_type": "markdown",
   "id": "a7dddc3e",
   "metadata": {},
   "source": [
    "* **The plot above shows a low correlation between GDP Per Capita and Athlete Count.**\n",
    "* **Pearson R = 0.35**"
   ]
  },
  {
   "cell_type": "markdown",
   "id": "d06dd51d",
   "metadata": {},
   "source": [
    "## CONCLUSION\n",
    "\n",
    "* **United States of America, People's Republic of China and ROC(Russia) won the most Medals in Tokyo 2021.**\n",
    "* **United States of America, Japan and Australia sent the most Athletes to Tokyo 2021.**\n",
    "* **There is a strong correlation between Athlete Count and the Total Medals a Country wins. Pearson R = 0.87**\n",
    "* **There is a low correlation between GDP Per Capita and the Total Medals a Country wins.\n",
    "Pearson R = 0.21. \n",
    "This makes sense as People's Republic of China and ROC(Russia) are amongst top 3 medal winners but have relatively low GDP per capita.**\n"
   ]
  },
  {
   "cell_type": "code",
   "execution_count": null,
   "id": "d9985961",
   "metadata": {},
   "outputs": [],
   "source": []
  }
 ],
 "metadata": {
  "kernelspec": {
   "display_name": "Python 3",
   "language": "python",
   "name": "python3"
  },
  "language_info": {
   "codemirror_mode": {
    "name": "ipython",
    "version": 3
   },
   "file_extension": ".py",
   "mimetype": "text/x-python",
   "name": "python",
   "nbconvert_exporter": "python",
   "pygments_lexer": "ipython3",
   "version": "3.8.8"
  }
 },
 "nbformat": 4,
 "nbformat_minor": 5
}
